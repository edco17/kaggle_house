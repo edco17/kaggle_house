{
 "cells": [
  {
   "cell_type": "markdown",
   "metadata": {},
   "source": [
    "# Kaggle Regression"
   ]
  },
  {
   "cell_type": "markdown",
   "metadata": {},
   "source": [
    "# House Pricing"
   ]
  },
  {
   "cell_type": "markdown",
   "metadata": {},
   "source": [
    "## Libraries"
   ]
  },
  {
   "cell_type": "code",
   "execution_count": 1,
   "metadata": {},
   "outputs": [],
   "source": [
    "import pandas as pd\n",
    "import numpy as np\n",
    "import matplotlib.pyplot as plt\n",
    "import modulo_limpieza\n",
    "import seaborn as sns\n",
    "from statsmodels.stats.outliers_influence import variance_inflation_factor\n",
    "import sys\n",
    "pd.set_option('display.max_columns', 500)\n",
    "\n",
    "import tensorflow as tf\n",
    "config = tf.ConfigProto()\n",
    "config.gpu_options.allow_growth = True\n",
    "sess = tf.Session(config = config)"
   ]
  },
  {
   "cell_type": "markdown",
   "metadata": {},
   "source": [
    "## Import Data"
   ]
  },
  {
   "cell_type": "code",
   "execution_count": 2,
   "metadata": {},
   "outputs": [],
   "source": [
    "data = pd.read_csv('train.csv')\n",
    "sub = pd.read_csv('test.csv')"
   ]
  },
  {
   "cell_type": "code",
   "execution_count": 3,
   "metadata": {},
   "outputs": [],
   "source": [
    "id_sub = sub['Id']"
   ]
  },
  {
   "cell_type": "markdown",
   "metadata": {},
   "source": [
    "## Data Structure"
   ]
  },
  {
   "cell_type": "code",
   "execution_count": 4,
   "metadata": {},
   "outputs": [
    {
     "data": {
      "text/plain": [
       "Index(['Id', 'MSSubClass', 'MSZoning', 'LotFrontage', 'LotArea', 'Street',\n",
       "       'Alley', 'LotShape', 'LandContour', 'Utilities', 'LotConfig',\n",
       "       'LandSlope', 'Neighborhood', 'Condition1', 'Condition2', 'BldgType',\n",
       "       'HouseStyle', 'OverallQual', 'OverallCond', 'YearBuilt', 'YearRemodAdd',\n",
       "       'RoofStyle', 'RoofMatl', 'Exterior1st', 'Exterior2nd', 'MasVnrType',\n",
       "       'MasVnrArea', 'ExterQual', 'ExterCond', 'Foundation', 'BsmtQual',\n",
       "       'BsmtCond', 'BsmtExposure', 'BsmtFinType1', 'BsmtFinSF1',\n",
       "       'BsmtFinType2', 'BsmtFinSF2', 'BsmtUnfSF', 'TotalBsmtSF', 'Heating',\n",
       "       'HeatingQC', 'CentralAir', 'Electrical', '1stFlrSF', '2ndFlrSF',\n",
       "       'LowQualFinSF', 'GrLivArea', 'BsmtFullBath', 'BsmtHalfBath', 'FullBath',\n",
       "       'HalfBath', 'BedroomAbvGr', 'KitchenAbvGr', 'KitchenQual',\n",
       "       'TotRmsAbvGrd', 'Functional', 'Fireplaces', 'FireplaceQu', 'GarageType',\n",
       "       'GarageYrBlt', 'GarageFinish', 'GarageCars', 'GarageArea', 'GarageQual',\n",
       "       'GarageCond', 'PavedDrive', 'WoodDeckSF', 'OpenPorchSF',\n",
       "       'EnclosedPorch', '3SsnPorch', 'ScreenPorch', 'PoolArea', 'PoolQC',\n",
       "       'Fence', 'MiscFeature', 'MiscVal', 'MoSold', 'YrSold', 'SaleType',\n",
       "       'SaleCondition', 'SalePrice'],\n",
       "      dtype='object')"
      ]
     },
     "execution_count": 4,
     "metadata": {},
     "output_type": "execute_result"
    }
   ],
   "source": [
    "data.columns"
   ]
  },
  {
   "cell_type": "markdown",
   "metadata": {},
   "source": [
    "_The data has 81 columns, with SalePrice as the target._"
   ]
  },
  {
   "cell_type": "code",
   "execution_count": 5,
   "metadata": {},
   "outputs": [
    {
     "name": "stdout",
     "output_type": "stream",
     "text": [
      "<class 'pandas.core.frame.DataFrame'>\n",
      "RangeIndex: 1460 entries, 0 to 1459\n",
      "Data columns (total 81 columns):\n",
      " #   Column         Non-Null Count  Dtype  \n",
      "---  ------         --------------  -----  \n",
      " 0   Id             1460 non-null   int64  \n",
      " 1   MSSubClass     1460 non-null   int64  \n",
      " 2   MSZoning       1460 non-null   object \n",
      " 3   LotFrontage    1201 non-null   float64\n",
      " 4   LotArea        1460 non-null   int64  \n",
      " 5   Street         1460 non-null   object \n",
      " 6   Alley          91 non-null     object \n",
      " 7   LotShape       1460 non-null   object \n",
      " 8   LandContour    1460 non-null   object \n",
      " 9   Utilities      1460 non-null   object \n",
      " 10  LotConfig      1460 non-null   object \n",
      " 11  LandSlope      1460 non-null   object \n",
      " 12  Neighborhood   1460 non-null   object \n",
      " 13  Condition1     1460 non-null   object \n",
      " 14  Condition2     1460 non-null   object \n",
      " 15  BldgType       1460 non-null   object \n",
      " 16  HouseStyle     1460 non-null   object \n",
      " 17  OverallQual    1460 non-null   int64  \n",
      " 18  OverallCond    1460 non-null   int64  \n",
      " 19  YearBuilt      1460 non-null   int64  \n",
      " 20  YearRemodAdd   1460 non-null   int64  \n",
      " 21  RoofStyle      1460 non-null   object \n",
      " 22  RoofMatl       1460 non-null   object \n",
      " 23  Exterior1st    1460 non-null   object \n",
      " 24  Exterior2nd    1460 non-null   object \n",
      " 25  MasVnrType     1452 non-null   object \n",
      " 26  MasVnrArea     1452 non-null   float64\n",
      " 27  ExterQual      1460 non-null   object \n",
      " 28  ExterCond      1460 non-null   object \n",
      " 29  Foundation     1460 non-null   object \n",
      " 30  BsmtQual       1423 non-null   object \n",
      " 31  BsmtCond       1423 non-null   object \n",
      " 32  BsmtExposure   1422 non-null   object \n",
      " 33  BsmtFinType1   1423 non-null   object \n",
      " 34  BsmtFinSF1     1460 non-null   int64  \n",
      " 35  BsmtFinType2   1422 non-null   object \n",
      " 36  BsmtFinSF2     1460 non-null   int64  \n",
      " 37  BsmtUnfSF      1460 non-null   int64  \n",
      " 38  TotalBsmtSF    1460 non-null   int64  \n",
      " 39  Heating        1460 non-null   object \n",
      " 40  HeatingQC      1460 non-null   object \n",
      " 41  CentralAir     1460 non-null   object \n",
      " 42  Electrical     1459 non-null   object \n",
      " 43  1stFlrSF       1460 non-null   int64  \n",
      " 44  2ndFlrSF       1460 non-null   int64  \n",
      " 45  LowQualFinSF   1460 non-null   int64  \n",
      " 46  GrLivArea      1460 non-null   int64  \n",
      " 47  BsmtFullBath   1460 non-null   int64  \n",
      " 48  BsmtHalfBath   1460 non-null   int64  \n",
      " 49  FullBath       1460 non-null   int64  \n",
      " 50  HalfBath       1460 non-null   int64  \n",
      " 51  BedroomAbvGr   1460 non-null   int64  \n",
      " 52  KitchenAbvGr   1460 non-null   int64  \n",
      " 53  KitchenQual    1460 non-null   object \n",
      " 54  TotRmsAbvGrd   1460 non-null   int64  \n",
      " 55  Functional     1460 non-null   object \n",
      " 56  Fireplaces     1460 non-null   int64  \n",
      " 57  FireplaceQu    770 non-null    object \n",
      " 58  GarageType     1379 non-null   object \n",
      " 59  GarageYrBlt    1379 non-null   float64\n",
      " 60  GarageFinish   1379 non-null   object \n",
      " 61  GarageCars     1460 non-null   int64  \n",
      " 62  GarageArea     1460 non-null   int64  \n",
      " 63  GarageQual     1379 non-null   object \n",
      " 64  GarageCond     1379 non-null   object \n",
      " 65  PavedDrive     1460 non-null   object \n",
      " 66  WoodDeckSF     1460 non-null   int64  \n",
      " 67  OpenPorchSF    1460 non-null   int64  \n",
      " 68  EnclosedPorch  1460 non-null   int64  \n",
      " 69  3SsnPorch      1460 non-null   int64  \n",
      " 70  ScreenPorch    1460 non-null   int64  \n",
      " 71  PoolArea       1460 non-null   int64  \n",
      " 72  PoolQC         7 non-null      object \n",
      " 73  Fence          281 non-null    object \n",
      " 74  MiscFeature    54 non-null     object \n",
      " 75  MiscVal        1460 non-null   int64  \n",
      " 76  MoSold         1460 non-null   int64  \n",
      " 77  YrSold         1460 non-null   int64  \n",
      " 78  SaleType       1460 non-null   object \n",
      " 79  SaleCondition  1460 non-null   object \n",
      " 80  SalePrice      1460 non-null   int64  \n",
      "dtypes: float64(3), int64(35), object(43)\n",
      "memory usage: 924.0+ KB\n"
     ]
    }
   ],
   "source": [
    "data.info()"
   ]
  },
  {
   "cell_type": "markdown",
   "metadata": {},
   "source": [
    "## Null Data"
   ]
  },
  {
   "cell_type": "code",
   "execution_count": 6,
   "metadata": {},
   "outputs": [
    {
     "data": {
      "text/html": [
       "<div>\n",
       "<style scoped>\n",
       "    .dataframe tbody tr th:only-of-type {\n",
       "        vertical-align: middle;\n",
       "    }\n",
       "\n",
       "    .dataframe tbody tr th {\n",
       "        vertical-align: top;\n",
       "    }\n",
       "\n",
       "    .dataframe thead th {\n",
       "        text-align: right;\n",
       "    }\n",
       "</style>\n",
       "<table border=\"1\" class=\"dataframe\">\n",
       "  <thead>\n",
       "    <tr style=\"text-align: right;\">\n",
       "      <th></th>\n",
       "      <th>0</th>\n",
       "    </tr>\n",
       "  </thead>\n",
       "  <tbody>\n",
       "    <tr>\n",
       "      <th>Id</th>\n",
       "      <td>0.000000</td>\n",
       "    </tr>\n",
       "    <tr>\n",
       "      <th>MSSubClass</th>\n",
       "      <td>0.000000</td>\n",
       "    </tr>\n",
       "    <tr>\n",
       "      <th>MSZoning</th>\n",
       "      <td>0.000000</td>\n",
       "    </tr>\n",
       "    <tr>\n",
       "      <th>LotFrontage</th>\n",
       "      <td>17.739726</td>\n",
       "    </tr>\n",
       "    <tr>\n",
       "      <th>LotArea</th>\n",
       "      <td>0.000000</td>\n",
       "    </tr>\n",
       "    <tr>\n",
       "      <th>...</th>\n",
       "      <td>...</td>\n",
       "    </tr>\n",
       "    <tr>\n",
       "      <th>MoSold</th>\n",
       "      <td>0.000000</td>\n",
       "    </tr>\n",
       "    <tr>\n",
       "      <th>YrSold</th>\n",
       "      <td>0.000000</td>\n",
       "    </tr>\n",
       "    <tr>\n",
       "      <th>SaleType</th>\n",
       "      <td>0.000000</td>\n",
       "    </tr>\n",
       "    <tr>\n",
       "      <th>SaleCondition</th>\n",
       "      <td>0.000000</td>\n",
       "    </tr>\n",
       "    <tr>\n",
       "      <th>SalePrice</th>\n",
       "      <td>0.000000</td>\n",
       "    </tr>\n",
       "  </tbody>\n",
       "</table>\n",
       "<p>81 rows × 1 columns</p>\n",
       "</div>"
      ],
      "text/plain": [
       "                       0\n",
       "Id              0.000000\n",
       "MSSubClass      0.000000\n",
       "MSZoning        0.000000\n",
       "LotFrontage    17.739726\n",
       "LotArea         0.000000\n",
       "...                  ...\n",
       "MoSold          0.000000\n",
       "YrSold          0.000000\n",
       "SaleType        0.000000\n",
       "SaleCondition   0.000000\n",
       "SalePrice       0.000000\n",
       "\n",
       "[81 rows x 1 columns]"
      ]
     },
     "execution_count": 6,
     "metadata": {},
     "output_type": "execute_result"
    }
   ],
   "source": [
    "pd.DataFrame(data.isnull().sum() / data.shape[0] * 100) "
   ]
  },
  {
   "cell_type": "markdown",
   "metadata": {},
   "source": [
    "_As seen above, Alley, FireplaceQu, PoolQC, Fence, MiscFeature have more than 40% of null data, these features will be eliminated._"
   ]
  },
  {
   "cell_type": "code",
   "execution_count": 7,
   "metadata": {},
   "outputs": [],
   "source": [
    "data.drop(['Alley', 'FireplaceQu', 'PoolQC', 'Fence', 'MiscFeature'],\n",
    "          axis = 1, inplace = True)\n",
    "\n",
    "sub.drop(['Alley', 'FireplaceQu', 'PoolQC', 'Fence', 'MiscFeature'],\n",
    "          axis = 1, inplace = True)"
   ]
  },
  {
   "cell_type": "code",
   "execution_count": 8,
   "metadata": {
    "scrolled": true
   },
   "outputs": [
    {
     "data": {
      "text/html": [
       "<div>\n",
       "<style scoped>\n",
       "    .dataframe tbody tr th:only-of-type {\n",
       "        vertical-align: middle;\n",
       "    }\n",
       "\n",
       "    .dataframe tbody tr th {\n",
       "        vertical-align: top;\n",
       "    }\n",
       "\n",
       "    .dataframe thead th {\n",
       "        text-align: right;\n",
       "    }\n",
       "</style>\n",
       "<table border=\"1\" class=\"dataframe\">\n",
       "  <thead>\n",
       "    <tr style=\"text-align: right;\">\n",
       "      <th></th>\n",
       "      <th>Id</th>\n",
       "      <th>MSSubClass</th>\n",
       "      <th>MSZoning</th>\n",
       "      <th>LotFrontage</th>\n",
       "      <th>LotArea</th>\n",
       "      <th>Street</th>\n",
       "      <th>LotShape</th>\n",
       "      <th>LandContour</th>\n",
       "      <th>Utilities</th>\n",
       "      <th>LotConfig</th>\n",
       "      <th>LandSlope</th>\n",
       "      <th>Neighborhood</th>\n",
       "      <th>Condition1</th>\n",
       "      <th>Condition2</th>\n",
       "      <th>BldgType</th>\n",
       "      <th>HouseStyle</th>\n",
       "      <th>OverallQual</th>\n",
       "      <th>OverallCond</th>\n",
       "      <th>YearBuilt</th>\n",
       "      <th>YearRemodAdd</th>\n",
       "      <th>RoofStyle</th>\n",
       "      <th>RoofMatl</th>\n",
       "      <th>Exterior1st</th>\n",
       "      <th>Exterior2nd</th>\n",
       "      <th>MasVnrType</th>\n",
       "      <th>MasVnrArea</th>\n",
       "      <th>ExterQual</th>\n",
       "      <th>ExterCond</th>\n",
       "      <th>Foundation</th>\n",
       "      <th>BsmtQual</th>\n",
       "      <th>BsmtCond</th>\n",
       "      <th>BsmtExposure</th>\n",
       "      <th>BsmtFinType1</th>\n",
       "      <th>BsmtFinSF1</th>\n",
       "      <th>BsmtFinType2</th>\n",
       "      <th>BsmtFinSF2</th>\n",
       "      <th>BsmtUnfSF</th>\n",
       "      <th>TotalBsmtSF</th>\n",
       "      <th>Heating</th>\n",
       "      <th>HeatingQC</th>\n",
       "      <th>CentralAir</th>\n",
       "      <th>Electrical</th>\n",
       "      <th>1stFlrSF</th>\n",
       "      <th>2ndFlrSF</th>\n",
       "      <th>LowQualFinSF</th>\n",
       "      <th>GrLivArea</th>\n",
       "      <th>BsmtFullBath</th>\n",
       "      <th>BsmtHalfBath</th>\n",
       "      <th>FullBath</th>\n",
       "      <th>HalfBath</th>\n",
       "      <th>BedroomAbvGr</th>\n",
       "      <th>KitchenAbvGr</th>\n",
       "      <th>KitchenQual</th>\n",
       "      <th>TotRmsAbvGrd</th>\n",
       "      <th>Functional</th>\n",
       "      <th>Fireplaces</th>\n",
       "      <th>GarageType</th>\n",
       "      <th>GarageYrBlt</th>\n",
       "      <th>GarageFinish</th>\n",
       "      <th>GarageCars</th>\n",
       "      <th>GarageArea</th>\n",
       "      <th>GarageQual</th>\n",
       "      <th>GarageCond</th>\n",
       "      <th>PavedDrive</th>\n",
       "      <th>WoodDeckSF</th>\n",
       "      <th>OpenPorchSF</th>\n",
       "      <th>EnclosedPorch</th>\n",
       "      <th>3SsnPorch</th>\n",
       "      <th>ScreenPorch</th>\n",
       "      <th>PoolArea</th>\n",
       "      <th>MiscVal</th>\n",
       "      <th>MoSold</th>\n",
       "      <th>YrSold</th>\n",
       "      <th>SaleType</th>\n",
       "      <th>SaleCondition</th>\n",
       "      <th>SalePrice</th>\n",
       "    </tr>\n",
       "  </thead>\n",
       "  <tbody>\n",
       "    <tr>\n",
       "      <th>0</th>\n",
       "      <td>1</td>\n",
       "      <td>60</td>\n",
       "      <td>RL</td>\n",
       "      <td>65.0</td>\n",
       "      <td>8450</td>\n",
       "      <td>Pave</td>\n",
       "      <td>Reg</td>\n",
       "      <td>Lvl</td>\n",
       "      <td>AllPub</td>\n",
       "      <td>Inside</td>\n",
       "      <td>Gtl</td>\n",
       "      <td>CollgCr</td>\n",
       "      <td>Norm</td>\n",
       "      <td>Norm</td>\n",
       "      <td>1Fam</td>\n",
       "      <td>2Story</td>\n",
       "      <td>7</td>\n",
       "      <td>5</td>\n",
       "      <td>2003</td>\n",
       "      <td>2003</td>\n",
       "      <td>Gable</td>\n",
       "      <td>CompShg</td>\n",
       "      <td>VinylSd</td>\n",
       "      <td>VinylSd</td>\n",
       "      <td>BrkFace</td>\n",
       "      <td>196.0</td>\n",
       "      <td>Gd</td>\n",
       "      <td>TA</td>\n",
       "      <td>PConc</td>\n",
       "      <td>Gd</td>\n",
       "      <td>TA</td>\n",
       "      <td>No</td>\n",
       "      <td>GLQ</td>\n",
       "      <td>706</td>\n",
       "      <td>Unf</td>\n",
       "      <td>0</td>\n",
       "      <td>150</td>\n",
       "      <td>856</td>\n",
       "      <td>GasA</td>\n",
       "      <td>Ex</td>\n",
       "      <td>Y</td>\n",
       "      <td>SBrkr</td>\n",
       "      <td>856</td>\n",
       "      <td>854</td>\n",
       "      <td>0</td>\n",
       "      <td>1710</td>\n",
       "      <td>1</td>\n",
       "      <td>0</td>\n",
       "      <td>2</td>\n",
       "      <td>1</td>\n",
       "      <td>3</td>\n",
       "      <td>1</td>\n",
       "      <td>Gd</td>\n",
       "      <td>8</td>\n",
       "      <td>Typ</td>\n",
       "      <td>0</td>\n",
       "      <td>Attchd</td>\n",
       "      <td>2003.0</td>\n",
       "      <td>RFn</td>\n",
       "      <td>2</td>\n",
       "      <td>548</td>\n",
       "      <td>TA</td>\n",
       "      <td>TA</td>\n",
       "      <td>Y</td>\n",
       "      <td>0</td>\n",
       "      <td>61</td>\n",
       "      <td>0</td>\n",
       "      <td>0</td>\n",
       "      <td>0</td>\n",
       "      <td>0</td>\n",
       "      <td>0</td>\n",
       "      <td>2</td>\n",
       "      <td>2008</td>\n",
       "      <td>WD</td>\n",
       "      <td>Normal</td>\n",
       "      <td>208500</td>\n",
       "    </tr>\n",
       "    <tr>\n",
       "      <th>1</th>\n",
       "      <td>2</td>\n",
       "      <td>20</td>\n",
       "      <td>RL</td>\n",
       "      <td>80.0</td>\n",
       "      <td>9600</td>\n",
       "      <td>Pave</td>\n",
       "      <td>Reg</td>\n",
       "      <td>Lvl</td>\n",
       "      <td>AllPub</td>\n",
       "      <td>FR2</td>\n",
       "      <td>Gtl</td>\n",
       "      <td>Veenker</td>\n",
       "      <td>Feedr</td>\n",
       "      <td>Norm</td>\n",
       "      <td>1Fam</td>\n",
       "      <td>1Story</td>\n",
       "      <td>6</td>\n",
       "      <td>8</td>\n",
       "      <td>1976</td>\n",
       "      <td>1976</td>\n",
       "      <td>Gable</td>\n",
       "      <td>CompShg</td>\n",
       "      <td>MetalSd</td>\n",
       "      <td>MetalSd</td>\n",
       "      <td>None</td>\n",
       "      <td>0.0</td>\n",
       "      <td>TA</td>\n",
       "      <td>TA</td>\n",
       "      <td>CBlock</td>\n",
       "      <td>Gd</td>\n",
       "      <td>TA</td>\n",
       "      <td>Gd</td>\n",
       "      <td>ALQ</td>\n",
       "      <td>978</td>\n",
       "      <td>Unf</td>\n",
       "      <td>0</td>\n",
       "      <td>284</td>\n",
       "      <td>1262</td>\n",
       "      <td>GasA</td>\n",
       "      <td>Ex</td>\n",
       "      <td>Y</td>\n",
       "      <td>SBrkr</td>\n",
       "      <td>1262</td>\n",
       "      <td>0</td>\n",
       "      <td>0</td>\n",
       "      <td>1262</td>\n",
       "      <td>0</td>\n",
       "      <td>1</td>\n",
       "      <td>2</td>\n",
       "      <td>0</td>\n",
       "      <td>3</td>\n",
       "      <td>1</td>\n",
       "      <td>TA</td>\n",
       "      <td>6</td>\n",
       "      <td>Typ</td>\n",
       "      <td>1</td>\n",
       "      <td>Attchd</td>\n",
       "      <td>1976.0</td>\n",
       "      <td>RFn</td>\n",
       "      <td>2</td>\n",
       "      <td>460</td>\n",
       "      <td>TA</td>\n",
       "      <td>TA</td>\n",
       "      <td>Y</td>\n",
       "      <td>298</td>\n",
       "      <td>0</td>\n",
       "      <td>0</td>\n",
       "      <td>0</td>\n",
       "      <td>0</td>\n",
       "      <td>0</td>\n",
       "      <td>0</td>\n",
       "      <td>5</td>\n",
       "      <td>2007</td>\n",
       "      <td>WD</td>\n",
       "      <td>Normal</td>\n",
       "      <td>181500</td>\n",
       "    </tr>\n",
       "    <tr>\n",
       "      <th>2</th>\n",
       "      <td>3</td>\n",
       "      <td>60</td>\n",
       "      <td>RL</td>\n",
       "      <td>68.0</td>\n",
       "      <td>11250</td>\n",
       "      <td>Pave</td>\n",
       "      <td>IR1</td>\n",
       "      <td>Lvl</td>\n",
       "      <td>AllPub</td>\n",
       "      <td>Inside</td>\n",
       "      <td>Gtl</td>\n",
       "      <td>CollgCr</td>\n",
       "      <td>Norm</td>\n",
       "      <td>Norm</td>\n",
       "      <td>1Fam</td>\n",
       "      <td>2Story</td>\n",
       "      <td>7</td>\n",
       "      <td>5</td>\n",
       "      <td>2001</td>\n",
       "      <td>2002</td>\n",
       "      <td>Gable</td>\n",
       "      <td>CompShg</td>\n",
       "      <td>VinylSd</td>\n",
       "      <td>VinylSd</td>\n",
       "      <td>BrkFace</td>\n",
       "      <td>162.0</td>\n",
       "      <td>Gd</td>\n",
       "      <td>TA</td>\n",
       "      <td>PConc</td>\n",
       "      <td>Gd</td>\n",
       "      <td>TA</td>\n",
       "      <td>Mn</td>\n",
       "      <td>GLQ</td>\n",
       "      <td>486</td>\n",
       "      <td>Unf</td>\n",
       "      <td>0</td>\n",
       "      <td>434</td>\n",
       "      <td>920</td>\n",
       "      <td>GasA</td>\n",
       "      <td>Ex</td>\n",
       "      <td>Y</td>\n",
       "      <td>SBrkr</td>\n",
       "      <td>920</td>\n",
       "      <td>866</td>\n",
       "      <td>0</td>\n",
       "      <td>1786</td>\n",
       "      <td>1</td>\n",
       "      <td>0</td>\n",
       "      <td>2</td>\n",
       "      <td>1</td>\n",
       "      <td>3</td>\n",
       "      <td>1</td>\n",
       "      <td>Gd</td>\n",
       "      <td>6</td>\n",
       "      <td>Typ</td>\n",
       "      <td>1</td>\n",
       "      <td>Attchd</td>\n",
       "      <td>2001.0</td>\n",
       "      <td>RFn</td>\n",
       "      <td>2</td>\n",
       "      <td>608</td>\n",
       "      <td>TA</td>\n",
       "      <td>TA</td>\n",
       "      <td>Y</td>\n",
       "      <td>0</td>\n",
       "      <td>42</td>\n",
       "      <td>0</td>\n",
       "      <td>0</td>\n",
       "      <td>0</td>\n",
       "      <td>0</td>\n",
       "      <td>0</td>\n",
       "      <td>9</td>\n",
       "      <td>2008</td>\n",
       "      <td>WD</td>\n",
       "      <td>Normal</td>\n",
       "      <td>223500</td>\n",
       "    </tr>\n",
       "    <tr>\n",
       "      <th>3</th>\n",
       "      <td>4</td>\n",
       "      <td>70</td>\n",
       "      <td>RL</td>\n",
       "      <td>60.0</td>\n",
       "      <td>9550</td>\n",
       "      <td>Pave</td>\n",
       "      <td>IR1</td>\n",
       "      <td>Lvl</td>\n",
       "      <td>AllPub</td>\n",
       "      <td>Corner</td>\n",
       "      <td>Gtl</td>\n",
       "      <td>Crawfor</td>\n",
       "      <td>Norm</td>\n",
       "      <td>Norm</td>\n",
       "      <td>1Fam</td>\n",
       "      <td>2Story</td>\n",
       "      <td>7</td>\n",
       "      <td>5</td>\n",
       "      <td>1915</td>\n",
       "      <td>1970</td>\n",
       "      <td>Gable</td>\n",
       "      <td>CompShg</td>\n",
       "      <td>Wd Sdng</td>\n",
       "      <td>Wd Shng</td>\n",
       "      <td>None</td>\n",
       "      <td>0.0</td>\n",
       "      <td>TA</td>\n",
       "      <td>TA</td>\n",
       "      <td>BrkTil</td>\n",
       "      <td>TA</td>\n",
       "      <td>Gd</td>\n",
       "      <td>No</td>\n",
       "      <td>ALQ</td>\n",
       "      <td>216</td>\n",
       "      <td>Unf</td>\n",
       "      <td>0</td>\n",
       "      <td>540</td>\n",
       "      <td>756</td>\n",
       "      <td>GasA</td>\n",
       "      <td>Gd</td>\n",
       "      <td>Y</td>\n",
       "      <td>SBrkr</td>\n",
       "      <td>961</td>\n",
       "      <td>756</td>\n",
       "      <td>0</td>\n",
       "      <td>1717</td>\n",
       "      <td>1</td>\n",
       "      <td>0</td>\n",
       "      <td>1</td>\n",
       "      <td>0</td>\n",
       "      <td>3</td>\n",
       "      <td>1</td>\n",
       "      <td>Gd</td>\n",
       "      <td>7</td>\n",
       "      <td>Typ</td>\n",
       "      <td>1</td>\n",
       "      <td>Detchd</td>\n",
       "      <td>1998.0</td>\n",
       "      <td>Unf</td>\n",
       "      <td>3</td>\n",
       "      <td>642</td>\n",
       "      <td>TA</td>\n",
       "      <td>TA</td>\n",
       "      <td>Y</td>\n",
       "      <td>0</td>\n",
       "      <td>35</td>\n",
       "      <td>272</td>\n",
       "      <td>0</td>\n",
       "      <td>0</td>\n",
       "      <td>0</td>\n",
       "      <td>0</td>\n",
       "      <td>2</td>\n",
       "      <td>2006</td>\n",
       "      <td>WD</td>\n",
       "      <td>Abnorml</td>\n",
       "      <td>140000</td>\n",
       "    </tr>\n",
       "    <tr>\n",
       "      <th>4</th>\n",
       "      <td>5</td>\n",
       "      <td>60</td>\n",
       "      <td>RL</td>\n",
       "      <td>84.0</td>\n",
       "      <td>14260</td>\n",
       "      <td>Pave</td>\n",
       "      <td>IR1</td>\n",
       "      <td>Lvl</td>\n",
       "      <td>AllPub</td>\n",
       "      <td>FR2</td>\n",
       "      <td>Gtl</td>\n",
       "      <td>NoRidge</td>\n",
       "      <td>Norm</td>\n",
       "      <td>Norm</td>\n",
       "      <td>1Fam</td>\n",
       "      <td>2Story</td>\n",
       "      <td>8</td>\n",
       "      <td>5</td>\n",
       "      <td>2000</td>\n",
       "      <td>2000</td>\n",
       "      <td>Gable</td>\n",
       "      <td>CompShg</td>\n",
       "      <td>VinylSd</td>\n",
       "      <td>VinylSd</td>\n",
       "      <td>BrkFace</td>\n",
       "      <td>350.0</td>\n",
       "      <td>Gd</td>\n",
       "      <td>TA</td>\n",
       "      <td>PConc</td>\n",
       "      <td>Gd</td>\n",
       "      <td>TA</td>\n",
       "      <td>Av</td>\n",
       "      <td>GLQ</td>\n",
       "      <td>655</td>\n",
       "      <td>Unf</td>\n",
       "      <td>0</td>\n",
       "      <td>490</td>\n",
       "      <td>1145</td>\n",
       "      <td>GasA</td>\n",
       "      <td>Ex</td>\n",
       "      <td>Y</td>\n",
       "      <td>SBrkr</td>\n",
       "      <td>1145</td>\n",
       "      <td>1053</td>\n",
       "      <td>0</td>\n",
       "      <td>2198</td>\n",
       "      <td>1</td>\n",
       "      <td>0</td>\n",
       "      <td>2</td>\n",
       "      <td>1</td>\n",
       "      <td>4</td>\n",
       "      <td>1</td>\n",
       "      <td>Gd</td>\n",
       "      <td>9</td>\n",
       "      <td>Typ</td>\n",
       "      <td>1</td>\n",
       "      <td>Attchd</td>\n",
       "      <td>2000.0</td>\n",
       "      <td>RFn</td>\n",
       "      <td>3</td>\n",
       "      <td>836</td>\n",
       "      <td>TA</td>\n",
       "      <td>TA</td>\n",
       "      <td>Y</td>\n",
       "      <td>192</td>\n",
       "      <td>84</td>\n",
       "      <td>0</td>\n",
       "      <td>0</td>\n",
       "      <td>0</td>\n",
       "      <td>0</td>\n",
       "      <td>0</td>\n",
       "      <td>12</td>\n",
       "      <td>2008</td>\n",
       "      <td>WD</td>\n",
       "      <td>Normal</td>\n",
       "      <td>250000</td>\n",
       "    </tr>\n",
       "  </tbody>\n",
       "</table>\n",
       "</div>"
      ],
      "text/plain": [
       "   Id  MSSubClass MSZoning  LotFrontage  LotArea Street LotShape LandContour  \\\n",
       "0   1          60       RL         65.0     8450   Pave      Reg         Lvl   \n",
       "1   2          20       RL         80.0     9600   Pave      Reg         Lvl   \n",
       "2   3          60       RL         68.0    11250   Pave      IR1         Lvl   \n",
       "3   4          70       RL         60.0     9550   Pave      IR1         Lvl   \n",
       "4   5          60       RL         84.0    14260   Pave      IR1         Lvl   \n",
       "\n",
       "  Utilities LotConfig LandSlope Neighborhood Condition1 Condition2 BldgType  \\\n",
       "0    AllPub    Inside       Gtl      CollgCr       Norm       Norm     1Fam   \n",
       "1    AllPub       FR2       Gtl      Veenker      Feedr       Norm     1Fam   \n",
       "2    AllPub    Inside       Gtl      CollgCr       Norm       Norm     1Fam   \n",
       "3    AllPub    Corner       Gtl      Crawfor       Norm       Norm     1Fam   \n",
       "4    AllPub       FR2       Gtl      NoRidge       Norm       Norm     1Fam   \n",
       "\n",
       "  HouseStyle  OverallQual  OverallCond  YearBuilt  YearRemodAdd RoofStyle  \\\n",
       "0     2Story            7            5       2003          2003     Gable   \n",
       "1     1Story            6            8       1976          1976     Gable   \n",
       "2     2Story            7            5       2001          2002     Gable   \n",
       "3     2Story            7            5       1915          1970     Gable   \n",
       "4     2Story            8            5       2000          2000     Gable   \n",
       "\n",
       "  RoofMatl Exterior1st Exterior2nd MasVnrType  MasVnrArea ExterQual ExterCond  \\\n",
       "0  CompShg     VinylSd     VinylSd    BrkFace       196.0        Gd        TA   \n",
       "1  CompShg     MetalSd     MetalSd       None         0.0        TA        TA   \n",
       "2  CompShg     VinylSd     VinylSd    BrkFace       162.0        Gd        TA   \n",
       "3  CompShg     Wd Sdng     Wd Shng       None         0.0        TA        TA   \n",
       "4  CompShg     VinylSd     VinylSd    BrkFace       350.0        Gd        TA   \n",
       "\n",
       "  Foundation BsmtQual BsmtCond BsmtExposure BsmtFinType1  BsmtFinSF1  \\\n",
       "0      PConc       Gd       TA           No          GLQ         706   \n",
       "1     CBlock       Gd       TA           Gd          ALQ         978   \n",
       "2      PConc       Gd       TA           Mn          GLQ         486   \n",
       "3     BrkTil       TA       Gd           No          ALQ         216   \n",
       "4      PConc       Gd       TA           Av          GLQ         655   \n",
       "\n",
       "  BsmtFinType2  BsmtFinSF2  BsmtUnfSF  TotalBsmtSF Heating HeatingQC  \\\n",
       "0          Unf           0        150          856    GasA        Ex   \n",
       "1          Unf           0        284         1262    GasA        Ex   \n",
       "2          Unf           0        434          920    GasA        Ex   \n",
       "3          Unf           0        540          756    GasA        Gd   \n",
       "4          Unf           0        490         1145    GasA        Ex   \n",
       "\n",
       "  CentralAir Electrical  1stFlrSF  2ndFlrSF  LowQualFinSF  GrLivArea  \\\n",
       "0          Y      SBrkr       856       854             0       1710   \n",
       "1          Y      SBrkr      1262         0             0       1262   \n",
       "2          Y      SBrkr       920       866             0       1786   \n",
       "3          Y      SBrkr       961       756             0       1717   \n",
       "4          Y      SBrkr      1145      1053             0       2198   \n",
       "\n",
       "   BsmtFullBath  BsmtHalfBath  FullBath  HalfBath  BedroomAbvGr  KitchenAbvGr  \\\n",
       "0             1             0         2         1             3             1   \n",
       "1             0             1         2         0             3             1   \n",
       "2             1             0         2         1             3             1   \n",
       "3             1             0         1         0             3             1   \n",
       "4             1             0         2         1             4             1   \n",
       "\n",
       "  KitchenQual  TotRmsAbvGrd Functional  Fireplaces GarageType  GarageYrBlt  \\\n",
       "0          Gd             8        Typ           0     Attchd       2003.0   \n",
       "1          TA             6        Typ           1     Attchd       1976.0   \n",
       "2          Gd             6        Typ           1     Attchd       2001.0   \n",
       "3          Gd             7        Typ           1     Detchd       1998.0   \n",
       "4          Gd             9        Typ           1     Attchd       2000.0   \n",
       "\n",
       "  GarageFinish  GarageCars  GarageArea GarageQual GarageCond PavedDrive  \\\n",
       "0          RFn           2         548         TA         TA          Y   \n",
       "1          RFn           2         460         TA         TA          Y   \n",
       "2          RFn           2         608         TA         TA          Y   \n",
       "3          Unf           3         642         TA         TA          Y   \n",
       "4          RFn           3         836         TA         TA          Y   \n",
       "\n",
       "   WoodDeckSF  OpenPorchSF  EnclosedPorch  3SsnPorch  ScreenPorch  PoolArea  \\\n",
       "0           0           61              0          0            0         0   \n",
       "1         298            0              0          0            0         0   \n",
       "2           0           42              0          0            0         0   \n",
       "3           0           35            272          0            0         0   \n",
       "4         192           84              0          0            0         0   \n",
       "\n",
       "   MiscVal  MoSold  YrSold SaleType SaleCondition  SalePrice  \n",
       "0        0       2    2008       WD        Normal     208500  \n",
       "1        0       5    2007       WD        Normal     181500  \n",
       "2        0       9    2008       WD        Normal     223500  \n",
       "3        0       2    2006       WD       Abnorml     140000  \n",
       "4        0      12    2008       WD        Normal     250000  "
      ]
     },
     "execution_count": 8,
     "metadata": {},
     "output_type": "execute_result"
    }
   ],
   "source": [
    "data.head()"
   ]
  },
  {
   "cell_type": "markdown",
   "metadata": {},
   "source": [
    "## Columns Names"
   ]
  },
  {
   "cell_type": "code",
   "execution_count": 9,
   "metadata": {},
   "outputs": [],
   "source": [
    "continuous = ['Id', 'LotFrontage', 'LotArea', 'MasVnrArea', 'BsmtFinSF1', 'BsmtFinSF2', 'BsmtUnfSF', 'TotalBsmtSF',\n",
    "             '1stFlrSF', '2ndFlrSF', 'GrLivArea', 'GarageYrBlt', 'GarageArea', 'WoodDeckSF', 'OpenPorchSF', 'EnclosedPorch',\n",
    "              '3SsnPorch', 'ScreenPorch', 'PoolArea', 'MiscVal', 'MoSold', 'SalePrice']\n",
    "discrete = ['MSSubClass', 'MSZoning', 'Street', 'LotShape', 'Utilities', 'LotConfig', 'LandSlope', 'Neighborhood', 'Condition1',\n",
    "              'Condition2', 'BldgType', 'HouseStyle', 'OverallQual', 'OverallCond', 'YearBuilt', 'YearRemodAdd', 'RoofStyle',\n",
    "              'RoofMatl', 'Exterior1st', 'Exterior2nd', 'MasVnrType', 'ExterQual', 'ExterCond', 'Foundation', 'BsmtQual',\n",
    "            'BsmtCond', 'BsmtExposure', 'BsmtFinType1', 'BsmtFinType2', 'Heating', 'HeatingQC', 'CentralAir', 'Electrical',\n",
    "           'LowQualFinSF', 'BsmtFullBath', 'BsmtHalfBath', 'FullBath', 'HalfBath', 'BedroomAbvGr', 'KitchenAbvGr',\n",
    "            'KitchenQual', 'TotRmsAbvGrd', 'Functional', 'Fireplaces', 'GarageType', 'GarageFinish', 'GarageCars',\n",
    "           'GarageQual', 'GarageCond', 'PavedDrive', 'YrSold', 'SaleType', 'SaleCondition', 'LandContour']"
   ]
  },
  {
   "cell_type": "code",
   "execution_count": 10,
   "metadata": {},
   "outputs": [],
   "source": [
    "# rename columns\n",
    "new_cont = modulo_limpieza.renombrar_variables(continuous, 'continua')\n",
    "new_disc = modulo_limpieza.renombrar_variables(discrete, 'discreta')\n",
    "\n",
    "data.rename(columns = new_cont, inplace = True)\n",
    "data.rename(columns = new_disc, inplace = True)\n",
    "\n",
    "sub.rename(columns = new_cont, inplace = True)\n",
    "sub.rename(columns = new_disc, inplace = True)"
   ]
  },
  {
   "cell_type": "markdown",
   "metadata": {},
   "source": [
    "## Data Dummy"
   ]
  },
  {
   "cell_type": "code",
   "execution_count": 11,
   "metadata": {},
   "outputs": [],
   "source": [
    "# columns names\n",
    "dummies = data.select_dtypes(include=['object']).columns\n",
    "\n",
    "#dummies\n",
    "data = pd.get_dummies(data, columns=dummies, drop_first=True)\n",
    "\n",
    "sub = pd.get_dummies(sub, columns=dummies, drop_first=True)"
   ]
  },
  {
   "cell_type": "code",
   "execution_count": 12,
   "metadata": {},
   "outputs": [],
   "source": [
    "#same columns\n",
    "columns_sub = list(sub.columns)\n",
    "columns_sub.append('c_SalePrice')\n",
    "\n",
    "data = data.loc[:, columns_sub]"
   ]
  },
  {
   "cell_type": "markdown",
   "metadata": {},
   "source": [
    "## Outliers"
   ]
  },
  {
   "cell_type": "code",
   "execution_count": 13,
   "metadata": {},
   "outputs": [],
   "source": [
    "IQR = modulo_limpieza.IQR(data.filter(like = 'c_'))\n",
    "Percentil = modulo_limpieza.percentiles(data.filter(like = 'c_'))\n",
    "Z_score = modulo_limpieza.z_score(data, columns = data.filter(like = 'c_').columns)"
   ]
  },
  {
   "cell_type": "code",
   "execution_count": 14,
   "metadata": {},
   "outputs": [
    {
     "data": {
      "text/html": [
       "<div>\n",
       "<style scoped>\n",
       "    .dataframe tbody tr th:only-of-type {\n",
       "        vertical-align: middle;\n",
       "    }\n",
       "\n",
       "    .dataframe tbody tr th {\n",
       "        vertical-align: top;\n",
       "    }\n",
       "\n",
       "    .dataframe thead th {\n",
       "        text-align: right;\n",
       "    }\n",
       "</style>\n",
       "<table border=\"1\" class=\"dataframe\">\n",
       "  <thead>\n",
       "    <tr style=\"text-align: right;\">\n",
       "      <th></th>\n",
       "      <th>features</th>\n",
       "      <th>n outliers IQR</th>\n",
       "      <th>n outliers Percentil</th>\n",
       "      <th>n outliers Z-Score</th>\n",
       "      <th>n outliers IQR %</th>\n",
       "      <th>n outliers Percentil %</th>\n",
       "      <th>n outliers Z-Score %</th>\n",
       "      <th>total outliers</th>\n",
       "      <th>% outliers</th>\n",
       "      <th>indices</th>\n",
       "    </tr>\n",
       "  </thead>\n",
       "  <tbody>\n",
       "    <tr>\n",
       "      <th>0</th>\n",
       "      <td>c_Id</td>\n",
       "      <td>0</td>\n",
       "      <td>803</td>\n",
       "      <td>0</td>\n",
       "      <td>0.000000</td>\n",
       "      <td>55.000000</td>\n",
       "      <td>0.000000</td>\n",
       "      <td>0</td>\n",
       "      <td>0.000000</td>\n",
       "      <td>[]</td>\n",
       "    </tr>\n",
       "    <tr>\n",
       "      <th>1</th>\n",
       "      <td>c_LotFrontage</td>\n",
       "      <td>88</td>\n",
       "      <td>648</td>\n",
       "      <td>0</td>\n",
       "      <td>6.027397</td>\n",
       "      <td>44.383562</td>\n",
       "      <td>0.000000</td>\n",
       "      <td>88</td>\n",
       "      <td>6.027397</td>\n",
       "      <td>[1029, 523, 1038, 1039, 36, 1061, 41, 56, 1088...</td>\n",
       "    </tr>\n",
       "    <tr>\n",
       "      <th>2</th>\n",
       "      <td>c_LotArea</td>\n",
       "      <td>69</td>\n",
       "      <td>803</td>\n",
       "      <td>13</td>\n",
       "      <td>4.726027</td>\n",
       "      <td>55.000000</td>\n",
       "      <td>0.890411</td>\n",
       "      <td>69</td>\n",
       "      <td>4.726027</td>\n",
       "      <td>[384, 769, 1409, 260, 1287, 523, 271, 1039, 52...</td>\n",
       "    </tr>\n",
       "    <tr>\n",
       "      <th>3</th>\n",
       "      <td>c_MasVnrArea</td>\n",
       "      <td>96</td>\n",
       "      <td>70</td>\n",
       "      <td>0</td>\n",
       "      <td>6.575342</td>\n",
       "      <td>4.794521</td>\n",
       "      <td>0.000000</td>\n",
       "      <td>70</td>\n",
       "      <td>4.794521</td>\n",
       "      <td>[640, 769, 898, 517, 1287, 1289, 1417, 523, 52...</td>\n",
       "    </tr>\n",
       "    <tr>\n",
       "      <th>4</th>\n",
       "      <td>c_BsmtFinSF1</td>\n",
       "      <td>7</td>\n",
       "      <td>801</td>\n",
       "      <td>6</td>\n",
       "      <td>0.479452</td>\n",
       "      <td>54.863014</td>\n",
       "      <td>0.410959</td>\n",
       "      <td>7</td>\n",
       "      <td>0.479452</td>\n",
       "      <td>[898, 70, 523, 178, 1298, 53, 1182]</td>\n",
       "    </tr>\n",
       "    <tr>\n",
       "      <th>5</th>\n",
       "      <td>c_BsmtFinSF2</td>\n",
       "      <td>167</td>\n",
       "      <td>73</td>\n",
       "      <td>50</td>\n",
       "      <td>11.438356</td>\n",
       "      <td>5.000000</td>\n",
       "      <td>3.424658</td>\n",
       "      <td>73</td>\n",
       "      <td>5.000000</td>\n",
       "      <td>[1024, 1025, 1152, 260, 263, 649, 1418, 271, 1...</td>\n",
       "    </tr>\n",
       "    <tr>\n",
       "      <th>6</th>\n",
       "      <td>c_BsmtUnfSF</td>\n",
       "      <td>29</td>\n",
       "      <td>802</td>\n",
       "      <td>11</td>\n",
       "      <td>1.986301</td>\n",
       "      <td>54.931507</td>\n",
       "      <td>0.753425</td>\n",
       "      <td>29</td>\n",
       "      <td>1.986301</td>\n",
       "      <td>[768, 774, 137, 1166, 22, 278, 1046, 798, 928,...</td>\n",
       "    </tr>\n",
       "    <tr>\n",
       "      <th>7</th>\n",
       "      <td>c_TotalBsmtSF</td>\n",
       "      <td>61</td>\n",
       "      <td>802</td>\n",
       "      <td>10</td>\n",
       "      <td>4.178082</td>\n",
       "      <td>54.931507</td>\n",
       "      <td>0.684932</td>\n",
       "      <td>61</td>\n",
       "      <td>4.178082</td>\n",
       "      <td>[897, 898, 259, 1412, 646, 392, 520, 778, 523,...</td>\n",
       "    </tr>\n",
       "    <tr>\n",
       "      <th>8</th>\n",
       "      <td>c_1stFlrSF</td>\n",
       "      <td>20</td>\n",
       "      <td>803</td>\n",
       "      <td>12</td>\n",
       "      <td>1.369863</td>\n",
       "      <td>55.000000</td>\n",
       "      <td>0.821918</td>\n",
       "      <td>20</td>\n",
       "      <td>1.369863</td>\n",
       "      <td>[1024, 898, 523, 529, 1298, 1044, 1182, 175, 1...</td>\n",
       "    </tr>\n",
       "    <tr>\n",
       "      <th>9</th>\n",
       "      <td>c_2ndFlrSF</td>\n",
       "      <td>2</td>\n",
       "      <td>73</td>\n",
       "      <td>4</td>\n",
       "      <td>0.136986</td>\n",
       "      <td>5.000000</td>\n",
       "      <td>0.273973</td>\n",
       "      <td>4</td>\n",
       "      <td>0.273973</td>\n",
       "      <td>[304, 1169, 691, 1182]</td>\n",
       "    </tr>\n",
       "    <tr>\n",
       "      <th>10</th>\n",
       "      <td>c_GrLivArea</td>\n",
       "      <td>31</td>\n",
       "      <td>802</td>\n",
       "      <td>16</td>\n",
       "      <td>2.123288</td>\n",
       "      <td>54.931507</td>\n",
       "      <td>1.095890</td>\n",
       "      <td>31</td>\n",
       "      <td>2.123288</td>\n",
       "      <td>[1024, 769, 1031, 523, 1169, 1298, 1173, 1046,...</td>\n",
       "    </tr>\n",
       "    <tr>\n",
       "      <th>11</th>\n",
       "      <td>c_GarageYrBlt</td>\n",
       "      <td>0</td>\n",
       "      <td>739</td>\n",
       "      <td>0</td>\n",
       "      <td>0.000000</td>\n",
       "      <td>50.616438</td>\n",
       "      <td>0.000000</td>\n",
       "      <td>0</td>\n",
       "      <td>0.000000</td>\n",
       "      <td>[]</td>\n",
       "    </tr>\n",
       "    <tr>\n",
       "      <th>12</th>\n",
       "      <td>c_GarageArea</td>\n",
       "      <td>21</td>\n",
       "      <td>802</td>\n",
       "      <td>7</td>\n",
       "      <td>1.438356</td>\n",
       "      <td>54.931507</td>\n",
       "      <td>0.479452</td>\n",
       "      <td>21</td>\n",
       "      <td>1.438356</td>\n",
       "      <td>[1417, 270, 1298, 664, 408, 1184, 803, 1061, 1...</td>\n",
       "    </tr>\n",
       "    <tr>\n",
       "      <th>13</th>\n",
       "      <td>c_WoodDeckSF</td>\n",
       "      <td>32</td>\n",
       "      <td>71</td>\n",
       "      <td>22</td>\n",
       "      <td>2.191781</td>\n",
       "      <td>4.863014</td>\n",
       "      <td>1.506849</td>\n",
       "      <td>32</td>\n",
       "      <td>2.191781</td>\n",
       "      <td>[769, 1423, 1044, 661, 538, 1312, 1313, 674, 1...</td>\n",
       "    </tr>\n",
       "    <tr>\n",
       "      <th>14</th>\n",
       "      <td>c_OpenPorchSF</td>\n",
       "      <td>77</td>\n",
       "      <td>802</td>\n",
       "      <td>27</td>\n",
       "      <td>5.273973</td>\n",
       "      <td>54.931507</td>\n",
       "      <td>1.849315</td>\n",
       "      <td>73</td>\n",
       "      <td>5.000000</td>\n",
       "      <td>[384, 641, 645, 775, 7, 1287, 391, 523, 1164, ...</td>\n",
       "    </tr>\n",
       "    <tr>\n",
       "      <th>15</th>\n",
       "      <td>c_EnclosedPorch</td>\n",
       "      <td>208</td>\n",
       "      <td>73</td>\n",
       "      <td>51</td>\n",
       "      <td>14.246575</td>\n",
       "      <td>5.000000</td>\n",
       "      <td>3.493151</td>\n",
       "      <td>73</td>\n",
       "      <td>5.000000</td>\n",
       "      <td>[1152, 3, 260, 1030, 7, 8, 520, 648, 1419, 653...</td>\n",
       "    </tr>\n",
       "    <tr>\n",
       "      <th>16</th>\n",
       "      <td>c_3SsnPorch</td>\n",
       "      <td>24</td>\n",
       "      <td>24</td>\n",
       "      <td>23</td>\n",
       "      <td>1.643836</td>\n",
       "      <td>1.643836</td>\n",
       "      <td>1.575342</td>\n",
       "      <td>24</td>\n",
       "      <td>1.643836</td>\n",
       "      <td>[129, 258, 1156, 5, 1161, 280, 922, 1181, 1437...</td>\n",
       "    </tr>\n",
       "    <tr>\n",
       "      <th>17</th>\n",
       "      <td>c_ScreenPorch</td>\n",
       "      <td>116</td>\n",
       "      <td>72</td>\n",
       "      <td>55</td>\n",
       "      <td>7.945205</td>\n",
       "      <td>4.931507</td>\n",
       "      <td>3.767123</td>\n",
       "      <td>72</td>\n",
       "      <td>4.931507</td>\n",
       "      <td>[1408, 769, 1154, 1155, 1282, 1414, 647, 907, ...</td>\n",
       "    </tr>\n",
       "    <tr>\n",
       "      <th>18</th>\n",
       "      <td>c_PoolArea</td>\n",
       "      <td>7</td>\n",
       "      <td>7</td>\n",
       "      <td>7</td>\n",
       "      <td>0.479452</td>\n",
       "      <td>0.479452</td>\n",
       "      <td>0.479452</td>\n",
       "      <td>7</td>\n",
       "      <td>0.479452</td>\n",
       "      <td>[197, 810, 1386, 1423, 1298, 1170, 1182]</td>\n",
       "    </tr>\n",
       "    <tr>\n",
       "      <th>19</th>\n",
       "      <td>c_MiscVal</td>\n",
       "      <td>52</td>\n",
       "      <td>52</td>\n",
       "      <td>8</td>\n",
       "      <td>3.561644</td>\n",
       "      <td>3.561644</td>\n",
       "      <td>0.547945</td>\n",
       "      <td>52</td>\n",
       "      <td>3.561644</td>\n",
       "      <td>[5, 7, 392, 766, 16, 17, 786, 912, 1171, 794, ...</td>\n",
       "    </tr>\n",
       "    <tr>\n",
       "      <th>20</th>\n",
       "      <td>c_MoSold</td>\n",
       "      <td>0</td>\n",
       "      <td>620</td>\n",
       "      <td>0</td>\n",
       "      <td>0.000000</td>\n",
       "      <td>42.465753</td>\n",
       "      <td>0.000000</td>\n",
       "      <td>0</td>\n",
       "      <td>0.000000</td>\n",
       "      <td>[]</td>\n",
       "    </tr>\n",
       "    <tr>\n",
       "      <th>21</th>\n",
       "      <td>c_SalePrice</td>\n",
       "      <td>61</td>\n",
       "      <td>801</td>\n",
       "      <td>22</td>\n",
       "      <td>4.178082</td>\n",
       "      <td>54.863014</td>\n",
       "      <td>1.506849</td>\n",
       "      <td>61</td>\n",
       "      <td>4.178082</td>\n",
       "      <td>[769, 642, 515, 644, 389, 774, 898, 11, 654, 5...</td>\n",
       "    </tr>\n",
       "  </tbody>\n",
       "</table>\n",
       "</div>"
      ],
      "text/plain": [
       "           features  n outliers IQR  n outliers Percentil  n outliers Z-Score  \\\n",
       "0              c_Id               0                   803                   0   \n",
       "1     c_LotFrontage              88                   648                   0   \n",
       "2         c_LotArea              69                   803                  13   \n",
       "3      c_MasVnrArea              96                    70                   0   \n",
       "4      c_BsmtFinSF1               7                   801                   6   \n",
       "5      c_BsmtFinSF2             167                    73                  50   \n",
       "6       c_BsmtUnfSF              29                   802                  11   \n",
       "7     c_TotalBsmtSF              61                   802                  10   \n",
       "8        c_1stFlrSF              20                   803                  12   \n",
       "9        c_2ndFlrSF               2                    73                   4   \n",
       "10      c_GrLivArea              31                   802                  16   \n",
       "11    c_GarageYrBlt               0                   739                   0   \n",
       "12     c_GarageArea              21                   802                   7   \n",
       "13     c_WoodDeckSF              32                    71                  22   \n",
       "14    c_OpenPorchSF              77                   802                  27   \n",
       "15  c_EnclosedPorch             208                    73                  51   \n",
       "16      c_3SsnPorch              24                    24                  23   \n",
       "17    c_ScreenPorch             116                    72                  55   \n",
       "18       c_PoolArea               7                     7                   7   \n",
       "19        c_MiscVal              52                    52                   8   \n",
       "20         c_MoSold               0                   620                   0   \n",
       "21      c_SalePrice              61                   801                  22   \n",
       "\n",
       "    n outliers IQR %  n outliers Percentil %  n outliers Z-Score %  \\\n",
       "0           0.000000               55.000000              0.000000   \n",
       "1           6.027397               44.383562              0.000000   \n",
       "2           4.726027               55.000000              0.890411   \n",
       "3           6.575342                4.794521              0.000000   \n",
       "4           0.479452               54.863014              0.410959   \n",
       "5          11.438356                5.000000              3.424658   \n",
       "6           1.986301               54.931507              0.753425   \n",
       "7           4.178082               54.931507              0.684932   \n",
       "8           1.369863               55.000000              0.821918   \n",
       "9           0.136986                5.000000              0.273973   \n",
       "10          2.123288               54.931507              1.095890   \n",
       "11          0.000000               50.616438              0.000000   \n",
       "12          1.438356               54.931507              0.479452   \n",
       "13          2.191781                4.863014              1.506849   \n",
       "14          5.273973               54.931507              1.849315   \n",
       "15         14.246575                5.000000              3.493151   \n",
       "16          1.643836                1.643836              1.575342   \n",
       "17          7.945205                4.931507              3.767123   \n",
       "18          0.479452                0.479452              0.479452   \n",
       "19          3.561644                3.561644              0.547945   \n",
       "20          0.000000               42.465753              0.000000   \n",
       "21          4.178082               54.863014              1.506849   \n",
       "\n",
       "    total outliers  % outliers  \\\n",
       "0                0    0.000000   \n",
       "1               88    6.027397   \n",
       "2               69    4.726027   \n",
       "3               70    4.794521   \n",
       "4                7    0.479452   \n",
       "5               73    5.000000   \n",
       "6               29    1.986301   \n",
       "7               61    4.178082   \n",
       "8               20    1.369863   \n",
       "9                4    0.273973   \n",
       "10              31    2.123288   \n",
       "11               0    0.000000   \n",
       "12              21    1.438356   \n",
       "13              32    2.191781   \n",
       "14              73    5.000000   \n",
       "15              73    5.000000   \n",
       "16              24    1.643836   \n",
       "17              72    4.931507   \n",
       "18               7    0.479452   \n",
       "19              52    3.561644   \n",
       "20               0    0.000000   \n",
       "21              61    4.178082   \n",
       "\n",
       "                                              indices  \n",
       "0                                                  []  \n",
       "1   [1029, 523, 1038, 1039, 36, 1061, 41, 56, 1088...  \n",
       "2   [384, 769, 1409, 260, 1287, 523, 271, 1039, 52...  \n",
       "3   [640, 769, 898, 517, 1287, 1289, 1417, 523, 52...  \n",
       "4                 [898, 70, 523, 178, 1298, 53, 1182]  \n",
       "5   [1024, 1025, 1152, 260, 263, 649, 1418, 271, 1...  \n",
       "6   [768, 774, 137, 1166, 22, 278, 1046, 798, 928,...  \n",
       "7   [897, 898, 259, 1412, 646, 392, 520, 778, 523,...  \n",
       "8   [1024, 898, 523, 529, 1298, 1044, 1182, 175, 1...  \n",
       "9                              [304, 1169, 691, 1182]  \n",
       "10  [1024, 769, 1031, 523, 1169, 1298, 1173, 1046,...  \n",
       "11                                                 []  \n",
       "12  [1417, 270, 1298, 664, 408, 1184, 803, 1061, 1...  \n",
       "13  [769, 1423, 1044, 661, 538, 1312, 1313, 674, 1...  \n",
       "14  [384, 641, 645, 775, 7, 1287, 391, 523, 1164, ...  \n",
       "15  [1152, 3, 260, 1030, 7, 8, 520, 648, 1419, 653...  \n",
       "16  [129, 258, 1156, 5, 1161, 280, 922, 1181, 1437...  \n",
       "17  [1408, 769, 1154, 1155, 1282, 1414, 647, 907, ...  \n",
       "18           [197, 810, 1386, 1423, 1298, 1170, 1182]  \n",
       "19  [5, 7, 392, 766, 16, 17, 786, 912, 1171, 794, ...  \n",
       "20                                                 []  \n",
       "21  [769, 642, 515, 644, 389, 774, 898, 11, 654, 5...  "
      ]
     },
     "execution_count": 14,
     "metadata": {},
     "output_type": "execute_result"
    }
   ],
   "source": [
    "df_out = modulo_limpieza.tabla_out(IQR[1], Percentil[1], Z_score[1], IQR[0], Percentil[0], Z_score[0], data)\n",
    "df_out"
   ]
  },
  {
   "cell_type": "markdown",
   "metadata": {},
   "source": [
    "_The outliers will be eliminated from the table, this will help to create a better statistical model._ "
   ]
  },
  {
   "cell_type": "code",
   "execution_count": 15,
   "metadata": {},
   "outputs": [],
   "source": [
    "# number of element to eliminate\n",
    "aux_elementos = []\n",
    "\n",
    "#iteration by indez\n",
    "for variable in range(df_out.shape[0]):\n",
    "    # auxiliar list for delete elements\n",
    "    lista_auxiliar = list(set(df_out['indices'][variable]) & set(data.index))\n",
    "    # drop data\n",
    "    data.drop(lista_auxiliar, inplace = True)\n",
    "    aux_elementos.append(data.shape[0])\n"
   ]
  },
  {
   "cell_type": "code",
   "execution_count": 16,
   "metadata": {},
   "outputs": [
    {
     "data": {
      "text/plain": [
       "features\n",
       "c_Id               1460\n",
       "c_LotFrontage      1372\n",
       "c_LotArea          1321\n",
       "c_MasVnrArea       1264\n",
       "c_BsmtFinSF1       1264\n",
       "c_BsmtFinSF2       1205\n",
       "c_BsmtUnfSF        1182\n",
       "c_TotalBsmtSF      1142\n",
       "c_1stFlrSF         1141\n",
       "c_2ndFlrSF         1141\n",
       "c_GrLivArea        1130\n",
       "c_GarageYrBlt      1130\n",
       "c_GarageArea       1125\n",
       "c_WoodDeckSF       1109\n",
       "c_OpenPorchSF      1059\n",
       "c_EnclosedPorch    1005\n",
       "c_3SsnPorch         987\n",
       "c_ScreenPorch       942\n",
       "c_PoolArea          940\n",
       "c_MiscVal           910\n",
       "c_MoSold            910\n",
       "c_SalePrice         891\n",
       "dtype: int64"
      ]
     },
     "execution_count": 16,
     "metadata": {},
     "output_type": "execute_result"
    }
   ],
   "source": [
    "pd.Series(index = df_out['features'], data = aux_elementos)"
   ]
  },
  {
   "cell_type": "markdown",
   "metadata": {},
   "source": [
    "_This process drop 39% of the data, this must be helpfull to the model._"
   ]
  },
  {
   "cell_type": "code",
   "execution_count": 17,
   "metadata": {},
   "outputs": [],
   "source": [
    "data.reset_index(drop = True, inplace = True)"
   ]
  },
  {
   "cell_type": "markdown",
   "metadata": {},
   "source": [
    "## Fill NA"
   ]
  },
  {
   "cell_type": "code",
   "execution_count": 18,
   "metadata": {},
   "outputs": [
    {
     "data": {
      "text/plain": [
       "Index(['c_LotFrontage', 'c_MasVnrArea', 'c_GarageYrBlt'], dtype='object')"
      ]
     },
     "execution_count": 18,
     "metadata": {},
     "output_type": "execute_result"
    }
   ],
   "source": [
    "data.isnull().sum()[data.isnull().sum() > 0].index"
   ]
  },
  {
   "cell_type": "code",
   "execution_count": 19,
   "metadata": {},
   "outputs": [],
   "source": [
    "nulls_c = ['c_LotFrontage', 'c_MasVnrArea', 'c_GarageYrBlt']"
   ]
  },
  {
   "cell_type": "code",
   "execution_count": 20,
   "metadata": {},
   "outputs": [],
   "source": [
    "#filling na continuous\n",
    "for feat_c in nulls_c:\n",
    "    data[feat_c].fillna(data[feat_c].median(), inplace = True) "
   ]
  },
  {
   "cell_type": "code",
   "execution_count": 21,
   "metadata": {},
   "outputs": [
    {
     "data": {
      "text/plain": [
       "0"
      ]
     },
     "execution_count": 21,
     "metadata": {},
     "output_type": "execute_result"
    }
   ],
   "source": [
    "data.isnull().sum().values.sum()"
   ]
  },
  {
   "cell_type": "markdown",
   "metadata": {},
   "source": [
    "### Fill NA Submission"
   ]
  },
  {
   "cell_type": "code",
   "execution_count": 22,
   "metadata": {},
   "outputs": [
    {
     "data": {
      "text/plain": [
       "Index(['c_LotFrontage', 'c_MasVnrArea', 'c_BsmtFinSF1', 'c_BsmtFinSF2',\n",
       "       'c_BsmtUnfSF', 'c_TotalBsmtSF', 'v_BsmtFullBath', 'v_BsmtHalfBath',\n",
       "       'c_GarageYrBlt', 'v_GarageCars', 'c_GarageArea'],\n",
       "      dtype='object')"
      ]
     },
     "execution_count": 22,
     "metadata": {},
     "output_type": "execute_result"
    }
   ],
   "source": [
    "sub.isnull().sum()[sub.isnull().sum() > 0].index"
   ]
  },
  {
   "cell_type": "code",
   "execution_count": 23,
   "metadata": {},
   "outputs": [],
   "source": [
    "sub_null_c = ['c_LotFrontage', 'c_MasVnrArea', 'c_BsmtFinSF1', 'c_BsmtFinSF2',\n",
    "       'c_BsmtUnfSF', 'c_TotalBsmtSF', 'c_GarageYrBlt', 'c_GarageArea']\n",
    "\n",
    "sub_null_v = ['v_BsmtFullBath', 'v_BsmtHalfBath', 'v_GarageCars']"
   ]
  },
  {
   "cell_type": "code",
   "execution_count": 24,
   "metadata": {},
   "outputs": [],
   "source": [
    "#filling na continuous\n",
    "for feat_c in sub_null_c:\n",
    "    sub[feat_c].fillna(data[feat_c].median(), inplace = True)\n",
    "    \n",
    "#filling na discrete\n",
    "for feat_v in sub_null_v:\n",
    "    sub[feat_v].fillna(data[feat_v].mode()[0], inplace = True)    "
   ]
  },
  {
   "cell_type": "code",
   "execution_count": 25,
   "metadata": {},
   "outputs": [
    {
     "data": {
      "text/plain": [
       "0"
      ]
     },
     "execution_count": 25,
     "metadata": {},
     "output_type": "execute_result"
    }
   ],
   "source": [
    "sub.isnull().sum().values.sum()"
   ]
  },
  {
   "cell_type": "markdown",
   "metadata": {},
   "source": [
    "## Feature Selection"
   ]
  },
  {
   "cell_type": "markdown",
   "metadata": {},
   "source": [
    "### Low Correlation with Target"
   ]
  },
  {
   "cell_type": "code",
   "execution_count": 26,
   "metadata": {},
   "outputs": [
    {
     "data": {
      "text/plain": [
       "c_Id                     -0.011334\n",
       "c_ScreenPorch             0.013644\n",
       "v_YrSold                 -0.006653\n",
       "v_LotShape_IR3            0.016095\n",
       "v_LotConfig_FR2           0.006165\n",
       "v_LotConfig_FR3           0.006997\n",
       "v_Neighborhood_NPkVill   -0.013513\n",
       "v_Condition1_RRNe         0.012464\n",
       "v_RoofStyle_Mansard      -0.011368\n",
       "v_RoofMatl_Tar&Grv       -0.016997\n",
       "v_RoofMatl_WdShngl        0.001352\n",
       "v_Exterior2nd_AsphShn    -0.007860\n",
       "v_Exterior2nd_BrkFace     0.006808\n",
       "v_Exterior2nd_ImStucc    -0.009113\n",
       "v_Exterior2nd_Stone       0.006457\n",
       "v_BsmtFinType2_LwQ       -0.015586\n",
       "v_GarageQual_Gd           0.012284\n",
       "Name: c_SalePrice, dtype: float64"
      ]
     },
     "execution_count": 26,
     "metadata": {},
     "output_type": "execute_result"
    }
   ],
   "source": [
    "data.corr()['c_SalePrice'][np.abs(data.corr()['c_SalePrice']) < 0.02]"
   ]
  },
  {
   "cell_type": "code",
   "execution_count": 27,
   "metadata": {},
   "outputs": [],
   "source": [
    "low_corr = data.corr()['c_SalePrice'][np.abs(data.corr()['c_SalePrice']) < 0.02].index"
   ]
  },
  {
   "cell_type": "markdown",
   "metadata": {},
   "source": [
    "_As showed above, c_ScreenPorc, v_YrSold have low correlation with the targer this will be drop from de data table._"
   ]
  },
  {
   "cell_type": "code",
   "execution_count": 28,
   "metadata": {},
   "outputs": [],
   "source": [
    "data.drop(columns = low_corr, axis = 1, inplace = True)"
   ]
  },
  {
   "cell_type": "code",
   "execution_count": 29,
   "metadata": {},
   "outputs": [],
   "source": [
    "sub.drop(columns = low_corr, axis = 1, inplace = True)"
   ]
  },
  {
   "cell_type": "markdown",
   "metadata": {},
   "source": [
    "### High Correlation between other Features"
   ]
  },
  {
   "cell_type": "code",
   "execution_count": 30,
   "metadata": {},
   "outputs": [],
   "source": [
    "#original features\n",
    "orig_feat = data.iloc[:, 1:-1].columns\n",
    "\n",
    "#original columns\n",
    "ori_col = data.iloc[:, 1:-1].corr().columns\n",
    "\n",
    "#iteration\n",
    "for index in ori_col:\n",
    "    if index in data.columns[1:-1]:\n",
    "        #corr table\n",
    "        corr_t = np.abs(data.iloc[:, 1:-1].corr())\n",
    "        #iteration in features\n",
    "        for feat in corr_t.loc[:, index][corr_t.loc[:, index] > 0.5].index:\n",
    "            if feat != index and feat != 'c_SalePrice':\n",
    "                data.drop(labels=feat, axis = 1, inplace=True)\n",
    "                sub.drop(labels=feat, axis = 1, inplace=True)"
   ]
  },
  {
   "cell_type": "code",
   "execution_count": 31,
   "metadata": {},
   "outputs": [
    {
     "name": "stdout",
     "output_type": "stream",
     "text": [
      "v_YearBuilt\n",
      "v_YearRemodAdd\n",
      "c_BsmtUnfSF\n",
      "c_1stFlrSF\n",
      "c_GrLivArea\n",
      "v_BsmtFullBath\n",
      "v_FullBath\n",
      "v_HalfBath\n",
      "v_TotRmsAbvGrd\n",
      "c_GarageYrBlt\n",
      "v_GarageCars\n",
      "c_GarageArea\n",
      "v_MSZoning_RM\n",
      "v_LandContour_Lvl\n",
      "v_Neighborhood_Somerst\n",
      "v_Condition1_Norm\n",
      "v_Condition2_Norm\n",
      "v_BldgType_Duplex\n",
      "v_HouseStyle_1Story\n",
      "v_HouseStyle_2Story\n",
      "v_RoofStyle_Hip\n",
      "v_Exterior2nd_Brk Cmn\n",
      "v_Exterior2nd_CmentBd\n",
      "v_Exterior2nd_HdBoard\n",
      "v_Exterior2nd_MetalSd\n",
      "v_Exterior2nd_Plywood\n",
      "v_Exterior2nd_Stucco\n",
      "v_Exterior2nd_VinylSd\n",
      "v_Exterior2nd_Wd Sdng\n",
      "v_Exterior2nd_Wd Shng\n",
      "v_MasVnrType_BrkFace\n",
      "v_MasVnrType_None\n",
      "v_ExterQual_Gd\n",
      "v_ExterQual_TA\n",
      "v_ExterCond_TA\n",
      "v_Foundation_PConc\n",
      "v_BsmtQual_TA\n",
      "v_BsmtCond_TA\n",
      "v_BsmtFinType1_Unf\n",
      "v_BsmtFinType2_Unf\n",
      "v_KitchenQual_Gd\n",
      "v_KitchenQual_TA\n",
      "v_Functional_Typ\n",
      "v_GarageType_Detchd\n",
      "v_GarageFinish_Unf\n",
      "v_GarageCond_Po\n",
      "v_GarageCond_TA\n",
      "v_PavedDrive_Y\n",
      "v_SaleType_WD\n",
      "v_SaleCondition_Normal\n",
      "v_SaleCondition_Partial\n"
     ]
    }
   ],
   "source": [
    "for i in orig_feat:\n",
    "    if i not in data.columns:\n",
    "        print(i)"
   ]
  },
  {
   "cell_type": "code",
   "execution_count": 32,
   "metadata": {},
   "outputs": [
    {
     "data": {
      "text/plain": [
       "(891, 150)"
      ]
     },
     "execution_count": 32,
     "metadata": {},
     "output_type": "execute_result"
    }
   ],
   "source": [
    "data.shape"
   ]
  },
  {
   "cell_type": "code",
   "execution_count": 33,
   "metadata": {},
   "outputs": [
    {
     "data": {
      "text/plain": [
       "(1459, 149)"
      ]
     },
     "execution_count": 33,
     "metadata": {},
     "output_type": "execute_result"
    }
   ],
   "source": [
    "sub.shape"
   ]
  },
  {
   "cell_type": "markdown",
   "metadata": {},
   "source": [
    "### High Correlation between the Target"
   ]
  },
  {
   "cell_type": "code",
   "execution_count": 34,
   "metadata": {},
   "outputs": [],
   "source": [
    "var_1 = data[data['v_BsmtFinType1_GLQ'] == 1]['c_SalePrice']\n",
    "var_0 = data[data['v_BsmtFinType1_GLQ'] == 0]['c_SalePrice']"
   ]
  },
  {
   "cell_type": "code",
   "execution_count": 35,
   "metadata": {},
   "outputs": [
    {
     "data": {
      "text/plain": [
       "<matplotlib.legend.Legend at 0x7f23bc0b7a90>"
      ]
     },
     "execution_count": 35,
     "metadata": {},
     "output_type": "execute_result"
    },
    {
     "data": {
      "image/png": "[encoded data removed]",
      "text/plain": [
       "<Figure size 432x288 with 1 Axes>"
      ]
     },
     "metadata": {
      "needs_background": "light"
     },
     "output_type": "display_data"
    }
   ],
   "source": [
    "plt.hist(var_1, alpha = .5)\n",
    "plt.hist(var_0, alpha = .5)\n",
    "plt.legend([1,0])"
   ]
  },
  {
   "cell_type": "code",
   "execution_count": 36,
   "metadata": {},
   "outputs": [],
   "source": [
    "var_1 = data[data['v_BsmtQual_Gd'] == 1]['c_SalePrice']\n",
    "var_0 = data[data['v_BsmtQual_Gd'] == 0]['c_SalePrice']"
   ]
  },
  {
   "cell_type": "code",
   "execution_count": 37,
   "metadata": {},
   "outputs": [
    {
     "data": {
      "text/plain": [
       "<matplotlib.legend.Legend at 0x7f23bc549278>"
      ]
     },
     "execution_count": 37,
     "metadata": {},
     "output_type": "execute_result"
    },
    {
     "data": {
      "image/png": "[encoded data removed]",
      "text/plain": [
       "<Figure size 432x288 with 1 Axes>"
      ]
     },
     "metadata": {
      "needs_background": "light"
     },
     "output_type": "display_data"
    }
   ],
   "source": [
    "plt.hist(var_1, alpha = .5)\n",
    "plt.hist(var_0, alpha = .5)\n",
    "plt.legend([1,0])"
   ]
  },
  {
   "cell_type": "code",
   "execution_count": 38,
   "metadata": {},
   "outputs": [
    {
     "data": {
      "text/plain": [
       "<matplotlib.legend.Legend at 0x7f23b4279470>"
      ]
     },
     "execution_count": 38,
     "metadata": {},
     "output_type": "execute_result"
    },
    {
     "data": {
      "image/png": "[encoded data removed]",
      "text/plain": [
       "<Figure size 432x288 with 1 Axes>"
      ]
     },
     "metadata": {
      "needs_background": "light"
     },
     "output_type": "display_data"
    }
   ],
   "source": [
    "var_1 = data[data['v_Exterior1st_VinylSd'] == 1]['c_SalePrice']\n",
    "var_0 = data[data['v_Exterior1st_VinylSd'] == 0]['c_SalePrice']\n",
    "\n",
    "plt.hist(var_1, alpha = .5)\n",
    "plt.hist(var_0, alpha = .5)\n",
    "plt.legend([1,0])"
   ]
  },
  {
   "cell_type": "code",
   "execution_count": 39,
   "metadata": {},
   "outputs": [
    {
     "data": {
      "text/plain": [
       "<matplotlib.legend.Legend at 0x7f23b421aa58>"
      ]
     },
     "execution_count": 39,
     "metadata": {},
     "output_type": "execute_result"
    },
    {
     "data": {
      "image/png": "[encoded data removed]",
      "text/plain": [
       "<Figure size 432x288 with 1 Axes>"
      ]
     },
     "metadata": {
      "needs_background": "light"
     },
     "output_type": "display_data"
    }
   ],
   "source": [
    "var_1 = data[data['v_GarageType_Attchd'] == 1]['c_SalePrice']\n",
    "var_0 = data[data['v_GarageType_Attchd'] == 0]['c_SalePrice']\n",
    "\n",
    "plt.hist(var_1, alpha = .5)\n",
    "plt.hist(var_0, alpha = .5)\n",
    "plt.legend([1,0])"
   ]
  },
  {
   "cell_type": "code",
   "execution_count": 40,
   "metadata": {},
   "outputs": [
    {
     "data": {
      "text/plain": [
       "<matplotlib.legend.Legend at 0x7f23b4259278>"
      ]
     },
     "execution_count": 40,
     "metadata": {},
     "output_type": "execute_result"
    },
    {
     "data": {
      "image/png": "[encoded data removed]",
      "text/plain": [
       "<Figure size 432x288 with 1 Axes>"
      ]
     },
     "metadata": {
      "needs_background": "light"
     },
     "output_type": "display_data"
    }
   ],
   "source": [
    "var_1 = data[data['v_Fireplaces'] == 1]['c_SalePrice']\n",
    "var_0 = data[data['v_Fireplaces'] == 0]['c_SalePrice']\n",
    "var_2 = data[data['v_Fireplaces'] == 2]['c_SalePrice']\n",
    "\n",
    "plt.hist(var_1, alpha = .5)\n",
    "plt.hist(var_0, alpha = .5)\n",
    "plt.hist(var_2, alpha = .5)\n",
    "plt.legend([1, 0, 2])"
   ]
  },
  {
   "cell_type": "code",
   "execution_count": 41,
   "metadata": {},
   "outputs": [
    {
     "data": {
      "text/plain": [
       "v_OverallQual            0.807020\n",
       "c_TotalBsmtSF            0.546061\n",
       "v_BsmtFinType1_GLQ       0.469933\n",
       "v_BsmtQual_Gd            0.452567\n",
       "v_Exterior1st_VinylSd    0.429763\n",
       "Name: c_SalePrice, dtype: float64"
      ]
     },
     "execution_count": 41,
     "metadata": {},
     "output_type": "execute_result"
    }
   ],
   "source": [
    "np.abs(data.corr()['c_SalePrice']).sort_values(ascending = False)[1:6]"
   ]
  },
  {
   "cell_type": "markdown",
   "metadata": {},
   "source": [
    "## Feature Selection"
   ]
  },
  {
   "cell_type": "code",
   "execution_count": 42,
   "metadata": {},
   "outputs": [],
   "source": [
    "y_sel = data['c_SalePrice']\n",
    "X_sel = data.drop('c_SalePrice', axis = 1)"
   ]
  },
  {
   "cell_type": "code",
   "execution_count": 43,
   "metadata": {},
   "outputs": [],
   "source": [
    "from sklearn.model_selection import train_test_split\n",
    "\n",
    "X_train_s, X_test_s, y_train_s, y_test_s = train_test_split(X_sel, y_sel, test_size = 0.20, random_state = 1702)"
   ]
  },
  {
   "cell_type": "code",
   "execution_count": 44,
   "metadata": {},
   "outputs": [
    {
     "data": {
      "text/plain": [
       "SelectFromModel(estimator=RandomForestClassifier(n_estimators=200, n_jobs=-1))"
      ]
     },
     "execution_count": 44,
     "metadata": {},
     "output_type": "execute_result"
    }
   ],
   "source": [
    "from sklearn.ensemble import RandomForestClassifier\n",
    "from sklearn.feature_selection import SelectFromModel\n",
    "\n",
    "selection = SelectFromModel(RandomForestClassifier(n_estimators = 200, n_jobs=-1))\n",
    "selection.fit(X_train_s, y_train_s)"
   ]
  },
  {
   "cell_type": "code",
   "execution_count": 45,
   "metadata": {},
   "outputs": [
    {
     "data": {
      "text/plain": [
       "Index(['v_MSSubClass', 'c_LotFrontage', 'c_LotArea', 'v_OverallQual',\n",
       "       'v_OverallCond', 'c_MasVnrArea', 'c_BsmtFinSF1', 'c_BsmtFinSF2',\n",
       "       'c_TotalBsmtSF', 'c_2ndFlrSF', 'v_BedroomAbvGr', 'v_Fireplaces',\n",
       "       'c_WoodDeckSF', 'c_OpenPorchSF', 'c_EnclosedPorch', 'c_MoSold',\n",
       "       'v_MSZoning_RL', 'v_LotShape_Reg', 'v_LotConfig_Inside',\n",
       "       'v_Neighborhood_CollgCr', 'v_Neighborhood_Edwards',\n",
       "       'v_Neighborhood_NAmes', 'v_RoofStyle_Gable', 'v_Exterior1st_HdBoard',\n",
       "       'v_Exterior1st_MetalSd', 'v_Exterior1st_VinylSd',\n",
       "       'v_Exterior1st_Wd Sdng', 'v_MasVnrType_Stone', 'v_ExterCond_Gd',\n",
       "       'v_Foundation_CBlock', 'v_BsmtQual_Gd', 'v_BsmtExposure_Mn',\n",
       "       'v_BsmtExposure_No', 'v_BsmtFinType1_BLQ', 'v_BsmtFinType1_GLQ',\n",
       "       'v_BsmtFinType1_Rec', 'v_HeatingQC_Gd', 'v_HeatingQC_TA',\n",
       "       'v_GarageType_Attchd', 'v_GarageFinish_RFn', 'v_GarageQual_TA',\n",
       "       'v_SaleType_New'],\n",
       "      dtype='object')"
      ]
     },
     "execution_count": 45,
     "metadata": {},
     "output_type": "execute_result"
    }
   ],
   "source": [
    "columns_select = X_sel.columns[selection.get_support()]\n",
    "columns_select"
   ]
  },
  {
   "cell_type": "code",
   "execution_count": 46,
   "metadata": {},
   "outputs": [
    {
     "data": {
      "text/plain": [
       "42"
      ]
     },
     "execution_count": 46,
     "metadata": {},
     "output_type": "execute_result"
    }
   ],
   "source": [
    "len(columns_select)"
   ]
  },
  {
   "cell_type": "markdown",
   "metadata": {},
   "source": [
    "## Modelo"
   ]
  },
  {
   "cell_type": "code",
   "execution_count": 47,
   "metadata": {},
   "outputs": [],
   "source": [
    "y = data['c_SalePrice']\n",
    "X = data.loc[:, columns_select]"
   ]
  },
  {
   "cell_type": "code",
   "execution_count": 48,
   "metadata": {},
   "outputs": [],
   "source": [
    "X_sub = sub.loc[:, columns_select]"
   ]
  },
  {
   "cell_type": "code",
   "execution_count": 49,
   "metadata": {},
   "outputs": [],
   "source": [
    "from sklearn.model_selection import train_test_split\n",
    "\n",
    "X_train, X_test, y_train, y_test = train_test_split(X, y, test_size = 0.20, random_state = 1702)"
   ]
  },
  {
   "cell_type": "code",
   "execution_count": 50,
   "metadata": {},
   "outputs": [],
   "source": [
    "X_train.reset_index(drop = True, inplace = True)\n",
    "X_test.reset_index(drop = True, inplace = True)\n",
    "y_train.reset_index(drop = True, inplace = True)\n",
    "y_test.reset_index(drop = True, inplace = True)"
   ]
  },
  {
   "cell_type": "markdown",
   "metadata": {},
   "source": [
    "### Standar Scaler"
   ]
  },
  {
   "cell_type": "code",
   "execution_count": 51,
   "metadata": {},
   "outputs": [],
   "source": [
    "from sklearn.preprocessing import StandardScaler\n",
    "\n",
    "ss = StandardScaler()\n",
    "ss.fit(X = X_train)\n",
    "X_ss_train = ss.transform(X_train)"
   ]
  },
  {
   "cell_type": "code",
   "execution_count": 52,
   "metadata": {},
   "outputs": [],
   "source": [
    "X_ss_sub = ss.transform(X_sub)"
   ]
  },
  {
   "cell_type": "code",
   "execution_count": 53,
   "metadata": {},
   "outputs": [],
   "source": [
    "y_mean = y_train.mean()\n",
    "y_std = y_train.std()\n",
    "y_ss_train = (y_train - y_mean) /  y_std"
   ]
  },
  {
   "cell_type": "markdown",
   "metadata": {},
   "source": [
    "## Random Forest"
   ]
  },
  {
   "cell_type": "code",
   "execution_count": 54,
   "metadata": {},
   "outputs": [],
   "source": [
    "n_estimators = [575, 600, 625]\n",
    "max_features = ['auto']\n",
    "max_depth = [18, 20, 22]\n",
    "min_samples_split = [2, 3]\n",
    "min_samples_leaf = [1,2]"
   ]
  },
  {
   "cell_type": "code",
   "execution_count": 55,
   "metadata": {},
   "outputs": [],
   "source": [
    "param_grid = {'n_estimators': n_estimators,\n",
    "             'max_features': max_features,\n",
    "             'criterion': ['mse'],\n",
    "             'max_depth': max_depth,\n",
    "             'min_samples_split': min_samples_split,\n",
    "             'min_samples_leaf': min_samples_leaf,\n",
    "             'random_state': [1702]}"
   ]
  },
  {
   "cell_type": "code",
   "execution_count": 56,
   "metadata": {},
   "outputs": [],
   "source": [
    "from sklearn.model_selection import GridSearchCV\n",
    "from sklearn.ensemble import RandomForestRegressor\n",
    "\n",
    "model = RandomForestRegressor()\n",
    "\n",
    "rf_grid = GridSearchCV(estimator = model, param_grid = param_grid, cv = 3, verbose = 2, n_jobs = -1,\n",
    "                       scoring = 'neg_mean_absolute_error')"
   ]
  },
  {
   "cell_type": "code",
   "execution_count": 57,
   "metadata": {},
   "outputs": [
    {
     "name": "stdout",
     "output_type": "stream",
     "text": [
      "Fitting 3 folds for each of 36 candidates, totalling 108 fits\n"
     ]
    },
    {
     "data": {
      "text/plain": [
       "GridSearchCV(cv=3, estimator=RandomForestRegressor(), n_jobs=-1,\n",
       "             param_grid={'criterion': ['mse'], 'max_depth': [18, 20, 22],\n",
       "                         'max_features': ['auto'], 'min_samples_leaf': [1, 2],\n",
       "                         'min_samples_split': [2, 3],\n",
       "                         'n_estimators': [575, 600, 625],\n",
       "                         'random_state': [1702]},\n",
       "             scoring='neg_mean_absolute_error', verbose=2)"
      ]
     },
     "execution_count": 57,
     "metadata": {},
     "output_type": "execute_result"
    }
   ],
   "source": [
    "rf_grid.fit(X_ss_train, y_ss_train)"
   ]
  },
  {
   "cell_type": "code",
   "execution_count": 58,
   "metadata": {},
   "outputs": [
    {
     "data": {
      "text/plain": [
       "{'criterion': 'mse',\n",
       " 'max_depth': 18,\n",
       " 'max_features': 'auto',\n",
       " 'min_samples_leaf': 1,\n",
       " 'min_samples_split': 3,\n",
       " 'n_estimators': 625,\n",
       " 'random_state': 1702}"
      ]
     },
     "execution_count": 58,
     "metadata": {},
     "output_type": "execute_result"
    }
   ],
   "source": [
    "rf_grid.best_params_"
   ]
  },
  {
   "cell_type": "code",
   "execution_count": 59,
   "metadata": {},
   "outputs": [
    {
     "data": {
      "text/plain": [
       "0.15746727580370515"
      ]
     },
     "execution_count": 59,
     "metadata": {},
     "output_type": "execute_result"
    }
   ],
   "source": [
    "from sklearn.metrics import mean_squared_error\n",
    "\n",
    "error_train = mean_squared_error(y_true = y_ss_train, y_pred = rf_grid.predict(X_ss_train), squared = False)\n",
    "error_train"
   ]
  },
  {
   "cell_type": "markdown",
   "metadata": {},
   "source": [
    "## Test Modelo 1"
   ]
  },
  {
   "cell_type": "code",
   "execution_count": 60,
   "metadata": {},
   "outputs": [],
   "source": [
    "X_ss_test = ss.transform(X_test)"
   ]
  },
  {
   "cell_type": "code",
   "execution_count": 61,
   "metadata": {},
   "outputs": [],
   "source": [
    "y_ss_test = (y_test - y_mean) /  y_std"
   ]
  },
  {
   "cell_type": "code",
   "execution_count": 62,
   "metadata": {},
   "outputs": [
    {
     "data": {
      "text/plain": [
       "0.39496177175942054"
      ]
     },
     "execution_count": 62,
     "metadata": {},
     "output_type": "execute_result"
    }
   ],
   "source": [
    "error_test = mean_squared_error(y_true = y_ss_test, y_pred = rf_grid.predict(X_ss_test), squared = False)\n",
    "error_test"
   ]
  },
  {
   "cell_type": "markdown",
   "metadata": {},
   "source": [
    "## SVM"
   ]
  },
  {
   "cell_type": "code",
   "execution_count": 63,
   "metadata": {},
   "outputs": [
    {
     "data": {
      "text/plain": [
       "SVR(C=10000)"
      ]
     },
     "execution_count": 63,
     "metadata": {},
     "output_type": "execute_result"
    }
   ],
   "source": [
    "from sklearn.svm import SVR\n",
    "\n",
    "model2 = SVR(C = 10000)\n",
    "model2.fit(X_ss_train, y_ss_train)"
   ]
  },
  {
   "cell_type": "code",
   "execution_count": 64,
   "metadata": {},
   "outputs": [
    {
     "data": {
      "text/plain": [
       "0.0912948467316581"
      ]
     },
     "execution_count": 64,
     "metadata": {},
     "output_type": "execute_result"
    }
   ],
   "source": [
    "error_train = mean_squared_error(y_true = y_ss_train, y_pred = model2.predict(X_ss_train), squared = False)\n",
    "error_train"
   ]
  },
  {
   "cell_type": "markdown",
   "metadata": {},
   "source": [
    "## Test Modelo 2"
   ]
  },
  {
   "cell_type": "code",
   "execution_count": 65,
   "metadata": {},
   "outputs": [
    {
     "data": {
      "text/plain": [
       "0.39841481507003196"
      ]
     },
     "execution_count": 65,
     "metadata": {},
     "output_type": "execute_result"
    }
   ],
   "source": [
    "error_test = mean_squared_error(y_true = y_ss_test,y_pred = model2.predict(X_ss_test), squared = False)\n",
    "error_test"
   ]
  },
  {
   "cell_type": "markdown",
   "metadata": {},
   "source": [
    "## Linear Regression"
   ]
  },
  {
   "cell_type": "code",
   "execution_count": 66,
   "metadata": {},
   "outputs": [
    {
     "data": {
      "text/plain": [
       "LinearRegression()"
      ]
     },
     "execution_count": 66,
     "metadata": {},
     "output_type": "execute_result"
    }
   ],
   "source": [
    "from sklearn.linear_model import LinearRegression\n",
    "\n",
    "model3 = LinearRegression()\n",
    "model3.fit(X_ss_train, y_ss_train)"
   ]
  },
  {
   "cell_type": "code",
   "execution_count": 67,
   "metadata": {},
   "outputs": [
    {
     "data": {
      "text/plain": [
       "0.37232757274295414"
      ]
     },
     "execution_count": 67,
     "metadata": {},
     "output_type": "execute_result"
    }
   ],
   "source": [
    "error_train = mean_squared_error(y_true = y_ss_train, y_pred = model3.predict(X_ss_train), squared = False)\n",
    "error_train"
   ]
  },
  {
   "cell_type": "markdown",
   "metadata": {},
   "source": [
    "### Significacia de Cada Variable en la Regresión"
   ]
  },
  {
   "cell_type": "code",
   "execution_count": 68,
   "metadata": {},
   "outputs": [],
   "source": [
    "var_error = np.var(y_ss_train - model3.predict(X_ss_train))\n",
    "sum_sqr = np.dot(X_ss_train.T, X_ss_train).diagonal()"
   ]
  },
  {
   "cell_type": "code",
   "execution_count": 69,
   "metadata": {},
   "outputs": [],
   "source": [
    "se_sqr = var_error / sum_sqr\n",
    "se = np.sqrt(se_sqr)"
   ]
  },
  {
   "cell_type": "code",
   "execution_count": 70,
   "metadata": {},
   "outputs": [],
   "source": [
    "rechazo = (np.abs(model3.coef_ / se) > 1.96)"
   ]
  },
  {
   "cell_type": "code",
   "execution_count": 71,
   "metadata": {
    "scrolled": true
   },
   "outputs": [
    {
     "data": {
      "text/plain": [
       "Index(['v_MSSubClass', 'c_LotFrontage', 'c_LotArea', 'v_OverallQual',\n",
       "       'v_OverallCond', 'c_BsmtFinSF1', 'c_TotalBsmtSF', 'c_2ndFlrSF',\n",
       "       'v_BedroomAbvGr', 'v_Fireplaces', 'c_WoodDeckSF', 'c_OpenPorchSF',\n",
       "       'v_MSZoning_RL', 'v_LotShape_Reg', 'v_Neighborhood_CollgCr',\n",
       "       'v_Neighborhood_Edwards', 'v_Exterior1st_HdBoard',\n",
       "       'v_Exterior1st_Wd Sdng', 'v_MasVnrType_Stone', 'v_Foundation_CBlock',\n",
       "       'v_BsmtExposure_Mn', 'v_BsmtExposure_No', 'v_BsmtFinType1_GLQ',\n",
       "       'v_HeatingQC_Gd', 'v_HeatingQC_TA', 'v_GarageQual_TA',\n",
       "       'v_SaleType_New'],\n",
       "      dtype='object')"
      ]
     },
     "execution_count": 71,
     "metadata": {},
     "output_type": "execute_result"
    }
   ],
   "source": [
    "columns_select[rechazo]"
   ]
  },
  {
   "cell_type": "code",
   "execution_count": 72,
   "metadata": {},
   "outputs": [
    {
     "data": {
      "text/plain": [
       "LinearRegression()"
      ]
     },
     "execution_count": 72,
     "metadata": {},
     "output_type": "execute_result"
    }
   ],
   "source": [
    "X_linear_train = X_ss_train[:, rechazo]\n",
    "\n",
    "model3_2 = LinearRegression()\n",
    "model3_2.fit(X_linear_train, y_ss_train)"
   ]
  },
  {
   "cell_type": "code",
   "execution_count": 73,
   "metadata": {},
   "outputs": [
    {
     "data": {
      "text/plain": [
       "0.3761248967449247"
      ]
     },
     "execution_count": 73,
     "metadata": {},
     "output_type": "execute_result"
    }
   ],
   "source": [
    "error_train = mean_squared_error(y_true = y_ss_train, y_pred = model3_2.predict(X_linear_train), squared = False)\n",
    "error_train"
   ]
  },
  {
   "cell_type": "markdown",
   "metadata": {},
   "source": [
    "## Test 3"
   ]
  },
  {
   "cell_type": "code",
   "execution_count": 74,
   "metadata": {},
   "outputs": [
    {
     "data": {
      "text/plain": [
       "0.3931041717741756"
      ]
     },
     "execution_count": 74,
     "metadata": {},
     "output_type": "execute_result"
    }
   ],
   "source": [
    "error_test = mean_squared_error(y_true = y_ss_test,y_pred = model3.predict(X_ss_test), squared = False)\n",
    "error_test"
   ]
  },
  {
   "cell_type": "markdown",
   "metadata": {},
   "source": [
    "## Test 3_2"
   ]
  },
  {
   "cell_type": "code",
   "execution_count": 75,
   "metadata": {},
   "outputs": [
    {
     "data": {
      "text/plain": [
       "0.3917248384860147"
      ]
     },
     "execution_count": 75,
     "metadata": {},
     "output_type": "execute_result"
    }
   ],
   "source": [
    "X_linear_test = X_ss_test[:, rechazo]\n",
    "\n",
    "error_test = mean_squared_error(y_true = y_ss_test,y_pred = model3_2.predict(X_linear_test), squared = False)\n",
    "error_test"
   ]
  },
  {
   "cell_type": "markdown",
   "metadata": {},
   "source": [
    "## Polynomial"
   ]
  },
  {
   "cell_type": "code",
   "execution_count": 76,
   "metadata": {},
   "outputs": [
    {
     "data": {
      "text/plain": [
       "LinearRegression()"
      ]
     },
     "execution_count": 76,
     "metadata": {},
     "output_type": "execute_result"
    }
   ],
   "source": [
    "from sklearn.preprocessing import PolynomialFeatures\n",
    "\n",
    "poly = PolynomialFeatures(degree = 3)\n",
    "poly.fit(X_ss_train)\n",
    "X_poly_train = poly.transform(X_ss_train)\n",
    "\n",
    "model4 = LinearRegression()\n",
    "model4.fit(X_poly_train, y_ss_train)"
   ]
  },
  {
   "cell_type": "code",
   "execution_count": 77,
   "metadata": {},
   "outputs": [
    {
     "data": {
      "text/plain": [
       "5.9278582837037126e-15"
      ]
     },
     "execution_count": 77,
     "metadata": {},
     "output_type": "execute_result"
    }
   ],
   "source": [
    "error_train = mean_squared_error(y_true = y_ss_train, y_pred = model4.predict(X_poly_train), squared = False)\n",
    "error_train"
   ]
  },
  {
   "cell_type": "markdown",
   "metadata": {},
   "source": [
    "## Test 4"
   ]
  },
  {
   "cell_type": "code",
   "execution_count": 78,
   "metadata": {},
   "outputs": [
    {
     "data": {
      "text/plain": [
       "0.4270779522123232"
      ]
     },
     "execution_count": 78,
     "metadata": {},
     "output_type": "execute_result"
    }
   ],
   "source": [
    "X_poly_test = poly.transform(X_ss_test)\n",
    "\n",
    "error_test = mean_squared_error(y_true = y_ss_test, y_pred = model4.predict(X_poly_test), squared = False)\n",
    "error_test"
   ]
  },
  {
   "cell_type": "markdown",
   "metadata": {},
   "source": [
    "## Neural Network"
   ]
  },
  {
   "cell_type": "code",
   "execution_count": 79,
   "metadata": {},
   "outputs": [],
   "source": [
    "from tensorflow.keras.models import Sequential\n",
    "from tensorflow.keras.layers import Dense\n",
    "from tensorflow.keras.layers import Dropout\n",
    "from tensorflow.keras.layers import BatchNormalization"
   ]
  },
  {
   "cell_type": "code",
   "execution_count": 80,
   "metadata": {},
   "outputs": [
    {
     "name": "stdout",
     "output_type": "stream",
     "text": [
      "WARNING:tensorflow:From /home/edco17/anaconda3/envs/tf15/lib/python3.7/site-packages/tensorflow_core/python/ops/resource_variable_ops.py:1630: calling BaseResourceVariable.__init__ (from tensorflow.python.ops.resource_variable_ops) with constraint is deprecated and will be removed in a future version.\n",
      "Instructions for updating:\n",
      "If using Keras pass *_constraint arguments to layers.\n",
      "Model: \"sequential\"\n",
      "_________________________________________________________________\n",
      "Layer (type)                 Output Shape              Param #   \n",
      "=================================================================\n",
      "dense (Dense)                (None, None, 1024)        44032     \n",
      "_________________________________________________________________\n",
      "dense_1 (Dense)              (None, None, 512)         524800    \n",
      "_________________________________________________________________\n",
      "dropout (Dropout)            (None, None, 512)         0         \n",
      "_________________________________________________________________\n",
      "dense_2 (Dense)              (None, None, 256)         131328    \n",
      "_________________________________________________________________\n",
      "dropout_1 (Dropout)          (None, None, 256)         0         \n",
      "_________________________________________________________________\n",
      "dense_3 (Dense)              (None, None, 64)          16448     \n",
      "_________________________________________________________________\n",
      "dropout_2 (Dropout)          (None, None, 64)          0         \n",
      "_________________________________________________________________\n",
      "dense_4 (Dense)              (None, None, 32)          2080      \n",
      "_________________________________________________________________\n",
      "dense_5 (Dense)              (None, None, 1)           33        \n",
      "=================================================================\n",
      "Total params: 718,721\n",
      "Trainable params: 718,721\n",
      "Non-trainable params: 0\n",
      "_________________________________________________________________\n"
     ]
    }
   ],
   "source": [
    "model5 = Sequential()\n",
    "model5.add(Dense(1024, activation = 'relu', input_shape = (None, X_ss_train.shape[1])))\n",
    "model5.add(Dense(512, activation = 'relu'))\n",
    "model5.add(Dropout(0.3))\n",
    "model5.add(Dense(256, activation = 'relu'))\n",
    "model5.add(Dropout(0.2))\n",
    "model5.add(Dense(64, activation = 'relu'))\n",
    "model5.add(Dropout(0.2))\n",
    "model5.add(Dense(32, activation = 'relu'))\n",
    "model5.add(Dense(1))\n",
    "model5.summary()"
   ]
  },
  {
   "cell_type": "code",
   "execution_count": 81,
   "metadata": {},
   "outputs": [],
   "source": [
    "X_ss_train_2 = np.reshape(X_ss_train, (X_ss_train.shape[0], 1, X_ss_train.shape[1]))"
   ]
  },
  {
   "cell_type": "code",
   "execution_count": 82,
   "metadata": {},
   "outputs": [],
   "source": [
    "model5.compile(optimizer='rmsprop', loss = 'mae', metrics = ['mae'])"
   ]
  },
  {
   "cell_type": "code",
   "execution_count": 83,
   "metadata": {},
   "outputs": [
    {
     "data": {
      "text/plain": [
       "<tensorflow.python.keras.callbacks.History at 0x7f236007ac18>"
      ]
     },
     "execution_count": 83,
     "metadata": {},
     "output_type": "execute_result"
    }
   ],
   "source": [
    "model5.fit(X_ss_train_2, y_ss_train,\n",
    "                    epochs=40, batch_size=1, verbose=0)"
   ]
  },
  {
   "cell_type": "code",
   "execution_count": 84,
   "metadata": {},
   "outputs": [],
   "source": [
    "#k-folds\n",
    "k = 4\n",
    "num_val_samples = len(X_ss_train) // k\n",
    "all_scores = []"
   ]
  },
  {
   "cell_type": "code",
   "execution_count": 85,
   "metadata": {},
   "outputs": [
    {
     "name": "stdout",
     "output_type": "stream",
     "text": [
      "processing fold # 0\n",
      "processing fold # 1\n",
      "processing fold # 2\n",
      "processing fold # 3\n",
      "Train on 534 samples\n",
      "Epoch 1/40\n",
      "534/534 [==============================] - 2s 3ms/sample - loss: 0.1904 - mean_absolute_error: 0.1904\n",
      "Epoch 2/40\n",
      "534/534 [==============================] - 1s 2ms/sample - loss: 0.1911 - mean_absolute_error: 0.1911\n",
      "Epoch 3/40\n",
      "534/534 [==============================] - 1s 3ms/sample - loss: 0.1723 - mean_absolute_error: 0.1723\n",
      "Epoch 4/40\n",
      "534/534 [==============================] - 2s 3ms/sample - loss: 0.1816 - mean_absolute_error: 0.1816\n",
      "Epoch 5/40\n",
      "534/534 [==============================] - 2s 3ms/sample - loss: 0.1818 - mean_absolute_error: 0.1818\n",
      "Epoch 6/40\n",
      "534/534 [==============================] - 2s 3ms/sample - loss: 0.1745 - mean_absolute_error: 0.1745\n",
      "Epoch 7/40\n",
      "534/534 [==============================] - 1s 2ms/sample - loss: 0.1674 - mean_absolute_error: 0.1674\n",
      "Epoch 8/40\n",
      "534/534 [==============================] - 1s 2ms/sample - loss: 0.1696 - mean_absolute_error: 0.1696\n",
      "Epoch 9/40\n",
      "534/534 [==============================] - 1s 3ms/sample - loss: 0.1769 - mean_absolute_error: 0.1769\n",
      "Epoch 10/40\n",
      "534/534 [==============================] - 1s 3ms/sample - loss: 0.1580 - mean_absolute_error: 0.1580\n",
      "Epoch 11/40\n",
      "534/534 [==============================] - 2s 3ms/sample - loss: 0.1632 - mean_absolute_error: 0.1632\n",
      "Epoch 12/40\n",
      "534/534 [==============================] - 2s 3ms/sample - loss: 0.1695 - mean_absolute_error: 0.1695\n",
      "Epoch 13/40\n",
      "534/534 [==============================] - 1s 3ms/sample - loss: 0.1592 - mean_absolute_error: 0.1592\n",
      "Epoch 14/40\n",
      "534/534 [==============================] - 1s 2ms/sample - loss: 0.1694 - mean_absolute_error: 0.1694\n",
      "Epoch 15/40\n",
      "534/534 [==============================] - 1s 2ms/sample - loss: 0.1627 - mean_absolute_error: 0.1627\n",
      "Epoch 16/40\n",
      "534/534 [==============================] - 1s 2ms/sample - loss: 0.1652 - mean_absolute_error: 0.1652\n",
      "Epoch 17/40\n",
      "534/534 [==============================] - 1s 2ms/sample - loss: 0.1680 - mean_absolute_error: 0.1680\n",
      "Epoch 18/40\n",
      "534/534 [==============================] - 1s 3ms/sample - loss: 0.1713 - mean_absolute_error: 0.1713\n",
      "Epoch 19/40\n",
      "534/534 [==============================] - 2s 3ms/sample - loss: 0.1709 - mean_absolute_error: 0.1709\n",
      "Epoch 20/40\n",
      "534/534 [==============================] - 1s 3ms/sample - loss: 0.1750 - mean_absolute_error: 0.1750\n",
      "Epoch 21/40\n",
      "534/534 [==============================] - 1s 2ms/sample - loss: 0.1652 - mean_absolute_error: 0.1652\n",
      "Epoch 22/40\n",
      "534/534 [==============================] - 1s 2ms/sample - loss: 0.1664 - mean_absolute_error: 0.1664\n",
      "Epoch 23/40\n",
      "534/534 [==============================] - 1s 2ms/sample - loss: 0.1685 - mean_absolute_error: 0.1685\n",
      "Epoch 24/40\n",
      "534/534 [==============================] - 2s 3ms/sample - loss: 0.1720 - mean_absolute_error: 0.1720\n",
      "Epoch 25/40\n",
      "534/534 [==============================] - 1s 2ms/sample - loss: 0.1707 - mean_absolute_error: 0.1707\n",
      "Epoch 26/40\n",
      "534/534 [==============================] - 1s 2ms/sample - loss: 0.1594 - mean_absolute_error: 0.1594\n",
      "Epoch 27/40\n",
      "534/534 [==============================] - 1s 2ms/sample - loss: 0.1607 - mean_absolute_error: 0.1607\n",
      "Epoch 28/40\n",
      "534/534 [==============================] - 1s 2ms/sample - loss: 0.1480 - mean_absolute_error: 0.1480\n",
      "Epoch 29/40\n",
      "534/534 [==============================] - 1s 2ms/sample - loss: 0.1609 - mean_absolute_error: 0.1609\n",
      "Epoch 30/40\n",
      "534/534 [==============================] - 1s 3ms/sample - loss: 0.1794 - mean_absolute_error: 0.1794\n",
      "Epoch 31/40\n",
      "534/534 [==============================] - 1s 3ms/sample - loss: 0.1694 - mean_absolute_error: 0.1694\n",
      "Epoch 32/40\n",
      "534/534 [==============================] - 1s 3ms/sample - loss: 0.1615 - mean_absolute_error: 0.1615\n",
      "Epoch 33/40\n",
      "534/534 [==============================] - 2s 3ms/sample - loss: 0.1644 - mean_absolute_error: 0.1644\n",
      "Epoch 34/40\n",
      "534/534 [==============================] - 2s 3ms/sample - loss: 0.1639 - mean_absolute_error: 0.1639\n",
      "Epoch 35/40\n",
      "534/534 [==============================] - 2s 3ms/sample - loss: 0.1713 - mean_absolute_error: 0.1713\n",
      "Epoch 36/40\n",
      "534/534 [==============================] - 2s 3ms/sample - loss: 0.1628 - mean_absolute_error: 0.1628\n",
      "Epoch 37/40\n",
      "534/534 [==============================] - 1s 2ms/sample - loss: 0.1552 - mean_absolute_error: 0.1552\n",
      "Epoch 38/40\n",
      "534/534 [==============================] - 1s 2ms/sample - loss: 0.1553 - mean_absolute_error: 0.1553\n",
      "Epoch 39/40\n",
      "534/534 [==============================] - 1s 2ms/sample - loss: 0.1565 - mean_absolute_error: 0.1565\n",
      "Epoch 40/40\n",
      "534/534 [==============================] - 1s 2ms/sample - loss: 0.1541 - mean_absolute_error: 0.1541\n"
     ]
    }
   ],
   "source": [
    "for i in range(k):\n",
    "    print('processing fold #', i)\n",
    "    val_data = X_ss_train_2[i * num_val_samples: (i + 1) * num_val_samples]\n",
    "    val_targets = y_ss_train[i * num_val_samples: (i + 1) * num_val_samples]\n",
    "    partial_train_data = np.concatenate(\n",
    "        [X_ss_train_2[:i * num_val_samples],\n",
    "        X_ss_train_2[(i + 1) * num_val_samples:]],\n",
    "        axis=0)\n",
    "    partial_train_targets = np.concatenate(\n",
    "        [y_ss_train[:i * num_val_samples],\n",
    "        y_ss_train[(i + 1) * num_val_samples:]],\n",
    "        axis=0)\n",
    "    \n",
    "    if i != 3:\n",
    "        model5.fit(partial_train_data, partial_train_targets,\n",
    "                    epochs=10, batch_size=1, verbose=0)\n",
    "    else:\n",
    "        model5.fit(partial_train_data, partial_train_targets,\n",
    "                    epochs=40, batch_size=1, verbose=1)\n",
    "    \n",
    "    val_mse, val_mae = model5.evaluate(val_data, val_targets, verbose=0)\n",
    "    all_scores.append(val_mae)"
   ]
  },
  {
   "cell_type": "code",
   "execution_count": 86,
   "metadata": {},
   "outputs": [
    {
     "data": {
      "text/plain": [
       "[0.93479383, 1.0192325, 0.92540723, 0.98913854]"
      ]
     },
     "execution_count": 86,
     "metadata": {},
     "output_type": "execute_result"
    }
   ],
   "source": [
    "all_scores"
   ]
  },
  {
   "cell_type": "code",
   "execution_count": 87,
   "metadata": {},
   "outputs": [],
   "source": [
    "X_ss_test_2 = np.reshape(X_ss_test, (X_ss_test.shape[0], 1, X_ss_test.shape[1]))"
   ]
  },
  {
   "cell_type": "code",
   "execution_count": 88,
   "metadata": {},
   "outputs": [
    {
     "data": {
      "text/plain": [
       "0.2503711547303698"
      ]
     },
     "execution_count": 88,
     "metadata": {},
     "output_type": "execute_result"
    }
   ],
   "source": [
    "error_train = mean_squared_error(y_true = y_ss_train, \n",
    "                                 y_pred = model5.predict(X_ss_train_2)[:, 0, 0], squared = False)\n",
    "error_train"
   ]
  },
  {
   "cell_type": "code",
   "execution_count": 89,
   "metadata": {},
   "outputs": [
    {
     "data": {
      "text/plain": [
       "0.3889922236472311"
      ]
     },
     "execution_count": 89,
     "metadata": {},
     "output_type": "execute_result"
    }
   ],
   "source": [
    "error_test = mean_squared_error(y_true = y_ss_test,\n",
    "                                y_pred = model5.predict(X_ss_test_2)[:, 0, 0], squared = False)\n",
    "error_test"
   ]
  },
  {
   "cell_type": "markdown",
   "metadata": {},
   "source": [
    "## Test Final"
   ]
  },
  {
   "cell_type": "code",
   "execution_count": 90,
   "metadata": {},
   "outputs": [],
   "source": [
    "X_pred = (model2.predict(X_ss_test) + rf_grid.predict(X_ss_test) + model3.predict(X_ss_test) +\n",
    "          model4.predict(X_poly_test) + model5.predict(X_ss_test_2)[:, 0, 0] + \n",
    "         model3_2.predict(X_linear_test))/6"
   ]
  },
  {
   "cell_type": "code",
   "execution_count": 91,
   "metadata": {},
   "outputs": [
    {
     "data": {
      "text/plain": [
       "0.3428528930679695"
      ]
     },
     "execution_count": 91,
     "metadata": {},
     "output_type": "execute_result"
    }
   ],
   "source": [
    "error_test = mean_squared_error(y_true = y_ss_test, y_pred = X_pred, squared = False)\n",
    "error_test"
   ]
  },
  {
   "cell_type": "markdown",
   "metadata": {},
   "source": [
    "## Submission"
   ]
  },
  {
   "cell_type": "code",
   "execution_count": 92,
   "metadata": {},
   "outputs": [],
   "source": [
    "X_poly_sub = poly.transform(X_ss_sub)\n",
    "X_linear_sub = X_ss_sub[:, rechazo]\n",
    "X_ss_sub_2 = np.reshape(X_ss_sub, (X_ss_sub.shape[0], 1, X_ss_sub.shape[1]))\n",
    "\n",
    "y_sub = (model2.predict(X_ss_sub) + rf_grid.predict(X_ss_sub) + model3.predict(X_ss_sub) +\n",
    "          model4.predict(X_poly_sub) + model5.predict(X_ss_sub_2)[:, 0, 0] +\n",
    "         model3_2.predict(X_linear_sub))/6"
   ]
  },
  {
   "cell_type": "code",
   "execution_count": 93,
   "metadata": {},
   "outputs": [],
   "source": [
    "y_final = y_sub * y_std + y_mean"
   ]
  },
  {
   "cell_type": "code",
   "execution_count": 96,
   "metadata": {},
   "outputs": [],
   "source": [
    "#pd.DataFrame(data = y_final, index = id_sub, columns = ['SalePrice']).to_csv('submission.csv')"
   ]
  },
  {
   "cell_type": "code",
   "execution_count": 95,
   "metadata": {},
   "outputs": [],
   "source": [
    "from numba import cuda \n",
    "device = cuda.get_current_device()\n",
    "device.reset()"
   ]
  }
 ],
 "metadata": {
  "kernelspec": {
   "display_name": "tf15",
   "language": "python",
   "name": "tf15"
  },
  "language_info": {
   "codemirror_mode": {
    "name": "ipython",
    "version": 3
   },
   "file_extension": ".py",
   "mimetype": "text/x-python",
   "name": "python",
   "nbconvert_exporter": "python",
   "pygments_lexer": "ipython3",
   "version": "3.7.0"
  }
 },
 "nbformat": 4,
 "nbformat_minor": 4
}
